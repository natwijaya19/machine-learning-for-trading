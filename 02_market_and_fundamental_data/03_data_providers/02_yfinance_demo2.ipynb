{
 "cells": [
  {
   "cell_type": "markdown",
   "metadata": {},
   "source": [
    "# Downloading Market and Fundamental Data with `yfinance`"
   ]
  },
  {
   "cell_type": "markdown",
   "metadata": {},
   "source": [
    "## Imports & Settings"
   ]
  },
  {
   "cell_type": "code",
   "execution_count": 5,
   "metadata": {
    "ExecuteTime": {
     "end_time": "2023-08-07T05:19:00.731287600Z",
     "start_time": "2023-08-07T05:19:00.543259200Z"
    }
   },
   "outputs": [],
   "source": [
    "import warnings\n",
    "warnings.filterwarnings('ignore')"
   ]
  },
  {
   "cell_type": "code",
   "execution_count": 6,
   "metadata": {
    "ExecuteTime": {
     "end_time": "2023-08-07T05:19:00.745621Z",
     "start_time": "2023-08-07T05:19:00.547827100Z"
    }
   },
   "outputs": [],
   "source": [
    "import pandas as pd\n",
    "import yfinance as yf"
   ]
  },
  {
   "cell_type": "markdown",
   "metadata": {},
   "source": [
    "## How to work with a Ticker object"
   ]
  },
  {
   "cell_type": "code",
   "execution_count": 7,
   "metadata": {
    "ExecuteTime": {
     "end_time": "2023-08-07T05:19:00.747796200Z",
     "start_time": "2023-08-07T05:19:00.555685200Z"
    }
   },
   "outputs": [],
   "source": [
    "symbol = 'AAPL'\n",
    "ticker = yf.Ticker(symbol)"
   ]
  },
  {
   "cell_type": "markdown",
   "metadata": {},
   "source": [
    "### Show ticker info"
   ]
  },
  {
   "cell_type": "code",
   "execution_count": 8,
   "metadata": {
    "ExecuteTime": {
     "end_time": "2023-08-07T05:19:01.717830Z",
     "start_time": "2023-08-07T05:19:00.563300300Z"
    }
   },
   "outputs": [
    {
     "data": {
      "text/plain": "address1                                                One Apple Park Way\ncity                                                             Cupertino\nstate                                                                   CA\nzip                                                                  95014\ncountry                                                      United States\nphone                                                         408 996 1010\nwebsite                                              https://www.apple.com\nindustry                                              Consumer Electronics\nindustryDisp                                          Consumer Electronics\nsector                                                          Technology\nsectorDisp                                                      Технологии\nlongBusinessSummary      Apple Inc. designs, manufactures, and markets ...\nfullTimeEmployees                                                   164000\ncompanyOfficers          [{'maxAge': 1, 'name': 'Mr. Timothy D. Cook', ...\nauditRisk                                                                4\nboardRisk                                                                1\ncompensationRisk                                                         5\nshareHolderRightsRisk                                                    1\noverallRisk                                                              1\ngovernanceEpochDate                                             1690848000\ndtype: object"
     },
     "execution_count": 8,
     "metadata": {},
     "output_type": "execute_result"
    }
   ],
   "source": [
    "pd.Series(ticker.info).head(20)"
   ]
  },
  {
   "cell_type": "markdown",
   "metadata": {},
   "source": [
    "### Get market data"
   ]
  },
  {
   "cell_type": "code",
   "execution_count": 9,
   "metadata": {
    "ExecuteTime": {
     "end_time": "2023-08-07T05:19:02.555536900Z",
     "start_time": "2023-08-07T05:19:01.718908600Z"
    }
   },
   "outputs": [
    {
     "name": "stdout",
     "output_type": "stream",
     "text": [
      "<class 'pandas.core.frame.DataFrame'>\n",
      "DatetimeIndex: 1949 entries, 2023-07-31 09:30:00-04:00 to 2023-08-04 15:59:00-04:00\n",
      "Data columns (total 7 columns):\n",
      " #   Column        Non-Null Count  Dtype  \n",
      "---  ------        --------------  -----  \n",
      " 0   Open          1949 non-null   float64\n",
      " 1   High          1949 non-null   float64\n",
      " 2   Low           1949 non-null   float64\n",
      " 3   Close         1949 non-null   float64\n",
      " 4   Volume        1949 non-null   int64  \n",
      " 5   Dividends     1949 non-null   float64\n",
      " 6   Stock Splits  1949 non-null   float64\n",
      "dtypes: float64(6), int64(1)\n",
      "memory usage: 121.8 KB\n"
     ]
    }
   ],
   "source": [
    "data = ticker.history(period='5d',\n",
    "                      interval='1m',\n",
    "                      start=None,\n",
    "                      end=None,\n",
    "                      actions=True,\n",
    "                      auto_adjust=True,\n",
    "                      back_adjust=False)\n",
    "data.info()"
   ]
  },
  {
   "cell_type": "markdown",
   "metadata": {},
   "source": [
    "### View company actions"
   ]
  },
  {
   "cell_type": "code",
   "execution_count": 10,
   "metadata": {
    "ExecuteTime": {
     "end_time": "2023-08-07T05:19:02.568277300Z",
     "start_time": "2023-08-07T05:19:02.555536900Z"
    }
   },
   "outputs": [
    {
     "data": {
      "text/plain": "Empty DataFrame\nColumns: [Dividends, Stock Splits]\nIndex: []",
      "text/html": "<div>\n<style scoped>\n    .dataframe tbody tr th:only-of-type {\n        vertical-align: middle;\n    }\n\n    .dataframe tbody tr th {\n        vertical-align: top;\n    }\n\n    .dataframe thead th {\n        text-align: right;\n    }\n</style>\n<table border=\"1\" class=\"dataframe\">\n  <thead>\n    <tr style=\"text-align: right;\">\n      <th></th>\n      <th>Dividends</th>\n      <th>Stock Splits</th>\n    </tr>\n    <tr>\n      <th>Datetime</th>\n      <th></th>\n      <th></th>\n    </tr>\n  </thead>\n  <tbody>\n  </tbody>\n</table>\n</div>"
     },
     "execution_count": 10,
     "metadata": {},
     "output_type": "execute_result"
    }
   ],
   "source": [
    "# show actions (dividends, splits)\n",
    "ticker.actions"
   ]
  },
  {
   "cell_type": "code",
   "execution_count": 11,
   "metadata": {
    "ExecuteTime": {
     "end_time": "2023-08-07T05:19:02.642386200Z",
     "start_time": "2023-08-07T05:19:02.570379400Z"
    }
   },
   "outputs": [
    {
     "data": {
      "text/plain": "Series([], Name: Dividends, dtype: float64)"
     },
     "execution_count": 11,
     "metadata": {},
     "output_type": "execute_result"
    }
   ],
   "source": [
    "ticker.dividends"
   ]
  },
  {
   "cell_type": "code",
   "execution_count": 12,
   "metadata": {
    "ExecuteTime": {
     "end_time": "2023-08-07T05:19:02.643406700Z",
     "start_time": "2023-08-07T05:19:02.579332100Z"
    }
   },
   "outputs": [
    {
     "data": {
      "text/plain": "Series([], Name: Stock Splits, dtype: float64)"
     },
     "execution_count": 12,
     "metadata": {},
     "output_type": "execute_result"
    }
   ],
   "source": [
    "ticker.splits"
   ]
  },
  {
   "cell_type": "markdown",
   "metadata": {},
   "source": [
    "### Annual and Quarterly Financial Statement Summary"
   ]
  },
  {
   "cell_type": "code",
   "execution_count": 13,
   "metadata": {
    "ExecuteTime": {
     "end_time": "2023-08-07T05:19:03.187713700Z",
     "start_time": "2023-08-07T05:19:02.588672400Z"
    }
   },
   "outputs": [
    {
     "data": {
      "text/plain": "                                                        2022-09-30  \\\nTax Effect Of Unusual Items                                    0.0   \nTax Rate For Calcs                                        0.162045   \nNormalized EBITDA                                   130541000000.0   \nNet Income From Continuing Operation Net Minori...   99803000000.0   \nReconciled Depreciation                              11104000000.0   \nReconciled Cost Of Revenue                          223546000000.0   \nEBIT                                                119437000000.0   \nNet Interest Income                                   -106000000.0   \nInterest Expense                                      2931000000.0   \nInterest Income                                       2825000000.0   \nNormalized Income                                    99803000000.0   \nNet Income From Continuing And Discontinued Ope...   99803000000.0   \nTotal Expenses                                      274891000000.0   \nTotal Operating Income As Reported                  119437000000.0   \nDiluted Average Shares                               16325819000.0   \nBasic Average Shares                                 16215963000.0   \nDiluted EPS                                                   6.11   \nBasic EPS                                                     6.15   \nDiluted NI Availto Com Stockholders                  99803000000.0   \nNet Income Common Stockholders                       99803000000.0   \nNet Income                                           99803000000.0   \nNet Income Including Noncontrolling Interests        99803000000.0   \nNet Income Continuous Operations                     99803000000.0   \nTax Provision                                        19300000000.0   \nPretax Income                                       119103000000.0   \nOther Income Expense                                  -334000000.0   \nOther Non Operating Income Expenses                   -334000000.0   \nNet Non Operating Interest Income Expense             -106000000.0   \nInterest Expense Non Operating                        2931000000.0   \nInterest Income Non Operating                         2825000000.0   \nOperating Income                                    119437000000.0   \nOperating Expense                                    51345000000.0   \nResearch And Development                             26251000000.0   \nSelling General And Administration                   25094000000.0   \nGross Profit                                        170782000000.0   \nCost Of Revenue                                     223546000000.0   \nTotal Revenue                                       394328000000.0   \nOperating Revenue                                   394328000000.0   \n\n                                                        2021-09-30  \\\nTax Effect Of Unusual Items                                    0.0   \nTax Rate For Calcs                                        0.133023   \nNormalized EBITDA                                   120233000000.0   \nNet Income From Continuing Operation Net Minori...   94680000000.0   \nReconciled Depreciation                              11284000000.0   \nReconciled Cost Of Revenue                          212981000000.0   \nEBIT                                                108949000000.0   \nNet Interest Income                                    198000000.0   \nInterest Expense                                      2645000000.0   \nInterest Income                                       2843000000.0   \nNormalized Income                                    94680000000.0   \nNet Income From Continuing And Discontinued Ope...   94680000000.0   \nTotal Expenses                                      256868000000.0   \nTotal Operating Income As Reported                  108949000000.0   \nDiluted Average Shares                               16864919000.0   \nBasic Average Shares                                 16701272000.0   \nDiluted EPS                                                   5.61   \nBasic EPS                                                     5.67   \nDiluted NI Availto Com Stockholders                  94680000000.0   \nNet Income Common Stockholders                       94680000000.0   \nNet Income                                           94680000000.0   \nNet Income Including Noncontrolling Interests        94680000000.0   \nNet Income Continuous Operations                     94680000000.0   \nTax Provision                                        14527000000.0   \nPretax Income                                       109207000000.0   \nOther Income Expense                                   258000000.0   \nOther Non Operating Income Expenses                    258000000.0   \nNet Non Operating Interest Income Expense              198000000.0   \nInterest Expense Non Operating                        2645000000.0   \nInterest Income Non Operating                         2843000000.0   \nOperating Income                                    108949000000.0   \nOperating Expense                                    43887000000.0   \nResearch And Development                             21914000000.0   \nSelling General And Administration                   21973000000.0   \nGross Profit                                        152836000000.0   \nCost Of Revenue                                     212981000000.0   \nTotal Revenue                                       365817000000.0   \nOperating Revenue                                   365817000000.0   \n\n                                                        2020-09-30  \\\nTax Effect Of Unusual Items                                    0.0   \nTax Rate For Calcs                                        0.144282   \nNormalized EBITDA                                    77344000000.0   \nNet Income From Continuing Operation Net Minori...   57411000000.0   \nReconciled Depreciation                              11056000000.0   \nReconciled Cost Of Revenue                          169559000000.0   \nEBIT                                                 66288000000.0   \nNet Interest Income                                    890000000.0   \nInterest Expense                                      2873000000.0   \nInterest Income                                       3763000000.0   \nNormalized Income                                    57411000000.0   \nNet Income From Continuing And Discontinued Ope...   57411000000.0   \nTotal Expenses                                      208227000000.0   \nTotal Operating Income As Reported                   66288000000.0   \nDiluted Average Shares                               17528214000.0   \nBasic Average Shares                                 17352119000.0   \nDiluted EPS                                                   3.28   \nBasic EPS                                                     3.31   \nDiluted NI Availto Com Stockholders                  57411000000.0   \nNet Income Common Stockholders                       57411000000.0   \nNet Income                                           57411000000.0   \nNet Income Including Noncontrolling Interests        57411000000.0   \nNet Income Continuous Operations                     57411000000.0   \nTax Provision                                         9680000000.0   \nPretax Income                                        67091000000.0   \nOther Income Expense                                   803000000.0   \nOther Non Operating Income Expenses                    803000000.0   \nNet Non Operating Interest Income Expense              890000000.0   \nInterest Expense Non Operating                        2873000000.0   \nInterest Income Non Operating                         3763000000.0   \nOperating Income                                     66288000000.0   \nOperating Expense                                    38668000000.0   \nResearch And Development                             18752000000.0   \nSelling General And Administration                   19916000000.0   \nGross Profit                                        104956000000.0   \nCost Of Revenue                                     169559000000.0   \nTotal Revenue                                       274515000000.0   \nOperating Revenue                                   274515000000.0   \n\n                                                        2019-09-30  \nTax Effect Of Unusual Items                                    0.0  \nTax Rate For Calcs                                        0.159438  \nNormalized EBITDA                                    76477000000.0  \nNet Income From Continuing Operation Net Minori...   55256000000.0  \nReconciled Depreciation                              12547000000.0  \nReconciled Cost Of Revenue                          161782000000.0  \nEBIT                                                 63930000000.0  \nNet Interest Income                                   1385000000.0  \nInterest Expense                                      3576000000.0  \nInterest Income                                       4961000000.0  \nNormalized Income                                    55256000000.0  \nNet Income From Continuing And Discontinued Ope...   55256000000.0  \nTotal Expenses                                      196244000000.0  \nTotal Operating Income As Reported                   63930000000.0  \nDiluted Average Shares                               18595652000.0  \nBasic Average Shares                                 18471336000.0  \nDiluted EPS                                                 2.9725  \nBasic EPS                                                   2.9925  \nDiluted NI Availto Com Stockholders                  55256000000.0  \nNet Income Common Stockholders                       55256000000.0  \nNet Income                                           55256000000.0  \nNet Income Including Noncontrolling Interests        55256000000.0  \nNet Income Continuous Operations                     55256000000.0  \nTax Provision                                        10481000000.0  \nPretax Income                                        65737000000.0  \nOther Income Expense                                  1807000000.0  \nOther Non Operating Income Expenses                   1807000000.0  \nNet Non Operating Interest Income Expense             1385000000.0  \nInterest Expense Non Operating                        3576000000.0  \nInterest Income Non Operating                         4961000000.0  \nOperating Income                                     63930000000.0  \nOperating Expense                                    34462000000.0  \nResearch And Development                             16217000000.0  \nSelling General And Administration                   18245000000.0  \nGross Profit                                         98392000000.0  \nCost Of Revenue                                     161782000000.0  \nTotal Revenue                                       260174000000.0  \nOperating Revenue                                   260174000000.0  ",
      "text/html": "<div>\n<style scoped>\n    .dataframe tbody tr th:only-of-type {\n        vertical-align: middle;\n    }\n\n    .dataframe tbody tr th {\n        vertical-align: top;\n    }\n\n    .dataframe thead th {\n        text-align: right;\n    }\n</style>\n<table border=\"1\" class=\"dataframe\">\n  <thead>\n    <tr style=\"text-align: right;\">\n      <th></th>\n      <th>2022-09-30</th>\n      <th>2021-09-30</th>\n      <th>2020-09-30</th>\n      <th>2019-09-30</th>\n    </tr>\n  </thead>\n  <tbody>\n    <tr>\n      <th>Tax Effect Of Unusual Items</th>\n      <td>0.0</td>\n      <td>0.0</td>\n      <td>0.0</td>\n      <td>0.0</td>\n    </tr>\n    <tr>\n      <th>Tax Rate For Calcs</th>\n      <td>0.162045</td>\n      <td>0.133023</td>\n      <td>0.144282</td>\n      <td>0.159438</td>\n    </tr>\n    <tr>\n      <th>Normalized EBITDA</th>\n      <td>130541000000.0</td>\n      <td>120233000000.0</td>\n      <td>77344000000.0</td>\n      <td>76477000000.0</td>\n    </tr>\n    <tr>\n      <th>Net Income From Continuing Operation Net Minority Interest</th>\n      <td>99803000000.0</td>\n      <td>94680000000.0</td>\n      <td>57411000000.0</td>\n      <td>55256000000.0</td>\n    </tr>\n    <tr>\n      <th>Reconciled Depreciation</th>\n      <td>11104000000.0</td>\n      <td>11284000000.0</td>\n      <td>11056000000.0</td>\n      <td>12547000000.0</td>\n    </tr>\n    <tr>\n      <th>Reconciled Cost Of Revenue</th>\n      <td>223546000000.0</td>\n      <td>212981000000.0</td>\n      <td>169559000000.0</td>\n      <td>161782000000.0</td>\n    </tr>\n    <tr>\n      <th>EBIT</th>\n      <td>119437000000.0</td>\n      <td>108949000000.0</td>\n      <td>66288000000.0</td>\n      <td>63930000000.0</td>\n    </tr>\n    <tr>\n      <th>Net Interest Income</th>\n      <td>-106000000.0</td>\n      <td>198000000.0</td>\n      <td>890000000.0</td>\n      <td>1385000000.0</td>\n    </tr>\n    <tr>\n      <th>Interest Expense</th>\n      <td>2931000000.0</td>\n      <td>2645000000.0</td>\n      <td>2873000000.0</td>\n      <td>3576000000.0</td>\n    </tr>\n    <tr>\n      <th>Interest Income</th>\n      <td>2825000000.0</td>\n      <td>2843000000.0</td>\n      <td>3763000000.0</td>\n      <td>4961000000.0</td>\n    </tr>\n    <tr>\n      <th>Normalized Income</th>\n      <td>99803000000.0</td>\n      <td>94680000000.0</td>\n      <td>57411000000.0</td>\n      <td>55256000000.0</td>\n    </tr>\n    <tr>\n      <th>Net Income From Continuing And Discontinued Operation</th>\n      <td>99803000000.0</td>\n      <td>94680000000.0</td>\n      <td>57411000000.0</td>\n      <td>55256000000.0</td>\n    </tr>\n    <tr>\n      <th>Total Expenses</th>\n      <td>274891000000.0</td>\n      <td>256868000000.0</td>\n      <td>208227000000.0</td>\n      <td>196244000000.0</td>\n    </tr>\n    <tr>\n      <th>Total Operating Income As Reported</th>\n      <td>119437000000.0</td>\n      <td>108949000000.0</td>\n      <td>66288000000.0</td>\n      <td>63930000000.0</td>\n    </tr>\n    <tr>\n      <th>Diluted Average Shares</th>\n      <td>16325819000.0</td>\n      <td>16864919000.0</td>\n      <td>17528214000.0</td>\n      <td>18595652000.0</td>\n    </tr>\n    <tr>\n      <th>Basic Average Shares</th>\n      <td>16215963000.0</td>\n      <td>16701272000.0</td>\n      <td>17352119000.0</td>\n      <td>18471336000.0</td>\n    </tr>\n    <tr>\n      <th>Diluted EPS</th>\n      <td>6.11</td>\n      <td>5.61</td>\n      <td>3.28</td>\n      <td>2.9725</td>\n    </tr>\n    <tr>\n      <th>Basic EPS</th>\n      <td>6.15</td>\n      <td>5.67</td>\n      <td>3.31</td>\n      <td>2.9925</td>\n    </tr>\n    <tr>\n      <th>Diluted NI Availto Com Stockholders</th>\n      <td>99803000000.0</td>\n      <td>94680000000.0</td>\n      <td>57411000000.0</td>\n      <td>55256000000.0</td>\n    </tr>\n    <tr>\n      <th>Net Income Common Stockholders</th>\n      <td>99803000000.0</td>\n      <td>94680000000.0</td>\n      <td>57411000000.0</td>\n      <td>55256000000.0</td>\n    </tr>\n    <tr>\n      <th>Net Income</th>\n      <td>99803000000.0</td>\n      <td>94680000000.0</td>\n      <td>57411000000.0</td>\n      <td>55256000000.0</td>\n    </tr>\n    <tr>\n      <th>Net Income Including Noncontrolling Interests</th>\n      <td>99803000000.0</td>\n      <td>94680000000.0</td>\n      <td>57411000000.0</td>\n      <td>55256000000.0</td>\n    </tr>\n    <tr>\n      <th>Net Income Continuous Operations</th>\n      <td>99803000000.0</td>\n      <td>94680000000.0</td>\n      <td>57411000000.0</td>\n      <td>55256000000.0</td>\n    </tr>\n    <tr>\n      <th>Tax Provision</th>\n      <td>19300000000.0</td>\n      <td>14527000000.0</td>\n      <td>9680000000.0</td>\n      <td>10481000000.0</td>\n    </tr>\n    <tr>\n      <th>Pretax Income</th>\n      <td>119103000000.0</td>\n      <td>109207000000.0</td>\n      <td>67091000000.0</td>\n      <td>65737000000.0</td>\n    </tr>\n    <tr>\n      <th>Other Income Expense</th>\n      <td>-334000000.0</td>\n      <td>258000000.0</td>\n      <td>803000000.0</td>\n      <td>1807000000.0</td>\n    </tr>\n    <tr>\n      <th>Other Non Operating Income Expenses</th>\n      <td>-334000000.0</td>\n      <td>258000000.0</td>\n      <td>803000000.0</td>\n      <td>1807000000.0</td>\n    </tr>\n    <tr>\n      <th>Net Non Operating Interest Income Expense</th>\n      <td>-106000000.0</td>\n      <td>198000000.0</td>\n      <td>890000000.0</td>\n      <td>1385000000.0</td>\n    </tr>\n    <tr>\n      <th>Interest Expense Non Operating</th>\n      <td>2931000000.0</td>\n      <td>2645000000.0</td>\n      <td>2873000000.0</td>\n      <td>3576000000.0</td>\n    </tr>\n    <tr>\n      <th>Interest Income Non Operating</th>\n      <td>2825000000.0</td>\n      <td>2843000000.0</td>\n      <td>3763000000.0</td>\n      <td>4961000000.0</td>\n    </tr>\n    <tr>\n      <th>Operating Income</th>\n      <td>119437000000.0</td>\n      <td>108949000000.0</td>\n      <td>66288000000.0</td>\n      <td>63930000000.0</td>\n    </tr>\n    <tr>\n      <th>Operating Expense</th>\n      <td>51345000000.0</td>\n      <td>43887000000.0</td>\n      <td>38668000000.0</td>\n      <td>34462000000.0</td>\n    </tr>\n    <tr>\n      <th>Research And Development</th>\n      <td>26251000000.0</td>\n      <td>21914000000.0</td>\n      <td>18752000000.0</td>\n      <td>16217000000.0</td>\n    </tr>\n    <tr>\n      <th>Selling General And Administration</th>\n      <td>25094000000.0</td>\n      <td>21973000000.0</td>\n      <td>19916000000.0</td>\n      <td>18245000000.0</td>\n    </tr>\n    <tr>\n      <th>Gross Profit</th>\n      <td>170782000000.0</td>\n      <td>152836000000.0</td>\n      <td>104956000000.0</td>\n      <td>98392000000.0</td>\n    </tr>\n    <tr>\n      <th>Cost Of Revenue</th>\n      <td>223546000000.0</td>\n      <td>212981000000.0</td>\n      <td>169559000000.0</td>\n      <td>161782000000.0</td>\n    </tr>\n    <tr>\n      <th>Total Revenue</th>\n      <td>394328000000.0</td>\n      <td>365817000000.0</td>\n      <td>274515000000.0</td>\n      <td>260174000000.0</td>\n    </tr>\n    <tr>\n      <th>Operating Revenue</th>\n      <td>394328000000.0</td>\n      <td>365817000000.0</td>\n      <td>274515000000.0</td>\n      <td>260174000000.0</td>\n    </tr>\n  </tbody>\n</table>\n</div>"
     },
     "execution_count": 13,
     "metadata": {},
     "output_type": "execute_result"
    }
   ],
   "source": [
    "ticker.financials"
   ]
  },
  {
   "cell_type": "code",
   "execution_count": 14,
   "metadata": {
    "ExecuteTime": {
     "end_time": "2023-08-07T05:19:03.729219100Z",
     "start_time": "2023-08-07T05:19:03.184712700Z"
    }
   },
   "outputs": [
    {
     "data": {
      "text/plain": "                                                       2023-06-30  \\\nTax Effect Of Unusual Items                                   0.0   \nTax Rate For Calcs                                       0.125456   \nNormalized EBITDA                                   26050000000.0   \nNet Income From Continuing Operation Net Minori...  19881000000.0   \nReconciled Depreciation                              3052000000.0   \nReconciled Cost Of Revenue                          45384000000.0   \nEBIT                                                22998000000.0   \nNet Interest Income                                           NaN   \nInterest Expense                                              NaN   \nInterest Income                                               NaN   \nNormalized Income                                   19881000000.0   \nNet Income From Continuing And Discontinued Ope...  19881000000.0   \nTotal Expenses                                      58799000000.0   \nTotal Operating Income As Reported                  22998000000.0   \nDiluted Average Shares                              15775021000.0   \nBasic Average Shares                                15697614000.0   \nDiluted EPS                                                  1.26   \nBasic EPS                                                    1.27   \nDiluted NI Availto Com Stockholders                 19881000000.0   \nNet Income Common Stockholders                      19881000000.0   \nNet Income                                          19881000000.0   \nNet Income Including Noncontrolling Interests       19881000000.0   \nNet Income Continuous Operations                    19881000000.0   \nTax Provision                                        2852000000.0   \nPretax Income                                       22733000000.0   \nOther Income Expense                                 -265000000.0   \nOther Non Operating Income Expenses                  -265000000.0   \nNet Non Operating Interest Income Expense                     NaN   \nInterest Expense Non Operating                                NaN   \nInterest Income Non Operating                                 NaN   \nOperating Income                                    22998000000.0   \nOperating Expense                                   13415000000.0   \nResearch And Development                             7442000000.0   \nSelling General And Administration                   5973000000.0   \nGross Profit                                        36413000000.0   \nCost Of Revenue                                     45384000000.0   \nTotal Revenue                                       81797000000.0   \nOperating Revenue                                   81797000000.0   \n\n                                                       2023-03-31  \\\nTax Effect Of Unusual Items                                   0.0   \nTax Rate For Calcs                                       0.148756   \nNormalized EBITDA                                   31216000000.0   \nNet Income From Continuing Operation Net Minori...  24160000000.0   \nReconciled Depreciation                              2898000000.0   \nReconciled Cost Of Revenue                          52860000000.0   \nEBIT                                                28318000000.0   \nNet Interest Income                                   -12000000.0   \nInterest Expense                                      930000000.0   \nInterest Income                                       918000000.0   \nNormalized Income                                   24160000000.0   \nNet Income From Continuing And Discontinued Ope...  24160000000.0   \nTotal Expenses                                      66518000000.0   \nTotal Operating Income As Reported                  28318000000.0   \nDiluted Average Shares                              15847050000.0   \nBasic Average Shares                                15787154000.0   \nDiluted EPS                                                  1.52   \nBasic EPS                                                    1.53   \nDiluted NI Availto Com Stockholders                 24160000000.0   \nNet Income Common Stockholders                      24160000000.0   \nNet Income                                          24160000000.0   \nNet Income Including Noncontrolling Interests       24160000000.0   \nNet Income Continuous Operations                    24160000000.0   \nTax Provision                                        4222000000.0   \nPretax Income                                       28382000000.0   \nOther Income Expense                                   64000000.0   \nOther Non Operating Income Expenses                    64000000.0   \nNet Non Operating Interest Income Expense             -12000000.0   \nInterest Expense Non Operating                        930000000.0   \nInterest Income Non Operating                         918000000.0   \nOperating Income                                    28318000000.0   \nOperating Expense                                   13658000000.0   \nResearch And Development                             7457000000.0   \nSelling General And Administration                   6201000000.0   \nGross Profit                                        41976000000.0   \nCost Of Revenue                                     52860000000.0   \nTotal Revenue                                       94836000000.0   \nOperating Revenue                                   94836000000.0   \n\n                                                        2022-12-31  \\\nTax Effect Of Unusual Items                                    0.0   \nTax Rate For Calcs                                        0.157904   \nNormalized EBITDA                                    38932000000.0   \nNet Income From Continuing Operation Net Minori...   29998000000.0   \nReconciled Depreciation                               2916000000.0   \nReconciled Cost Of Revenue                           66822000000.0   \nEBIT                                                 36016000000.0   \nNet Interest Income                                   -135000000.0   \nInterest Expense                                      1003000000.0   \nInterest Income                                        868000000.0   \nNormalized Income                                    29998000000.0   \nNet Income From Continuing And Discontinued Ope...   29998000000.0   \nTotal Expenses                                       81138000000.0   \nTotal Operating Income As Reported                   36016000000.0   \nDiluted Average Shares                               15955718000.0   \nBasic Average Shares                                 15892723000.0   \nDiluted EPS                                                   1.88   \nBasic EPS                                                     1.89   \nDiluted NI Availto Com Stockholders                  29998000000.0   \nNet Income Common Stockholders                       29998000000.0   \nNet Income                                           29998000000.0   \nNet Income Including Noncontrolling Interests        29998000000.0   \nNet Income Continuous Operations                     29998000000.0   \nTax Provision                                         5625000000.0   \nPretax Income                                        35623000000.0   \nOther Income Expense                                  -393000000.0   \nOther Non Operating Income Expenses                   -393000000.0   \nNet Non Operating Interest Income Expense             -135000000.0   \nInterest Expense Non Operating                        1003000000.0   \nInterest Income Non Operating                          868000000.0   \nOperating Income                                     36016000000.0   \nOperating Expense                                    14316000000.0   \nResearch And Development                              7709000000.0   \nSelling General And Administration                    6607000000.0   \nGross Profit                                         50332000000.0   \nCost Of Revenue                                      66822000000.0   \nTotal Revenue                                       117154000000.0   \nOperating Revenue                                   117154000000.0   \n\n                                                       2022-09-30  \\\nTax Effect Of Unusual Items                                   0.0   \nTax Rate For Calcs                                        0.15963   \nNormalized EBITDA                                   27759000000.0   \nNet Income From Continuing Operation Net Minori...  20721000000.0   \nReconciled Depreciation                              2865000000.0   \nReconciled Cost Of Revenue                          52051000000.0   \nEBIT                                                24894000000.0   \nNet Interest Income                                   -74000000.0   \nInterest Expense                                      827000000.0   \nInterest Income                                       753000000.0   \nNormalized Income                                   20721000000.0   \nNet Income From Continuing And Discontinued Ope...  20721000000.0   \nTotal Expenses                                      65252000000.0   \nTotal Operating Income As Reported                  24894000000.0   \nDiluted Average Shares                              16118465000.0   \nBasic Average Shares                                16030382000.0   \nDiluted EPS                                                  1.29   \nBasic EPS                                                    1.29   \nDiluted NI Availto Com Stockholders                 20721000000.0   \nNet Income Common Stockholders                      20721000000.0   \nNet Income                                          20721000000.0   \nNet Income Including Noncontrolling Interests       20721000000.0   \nNet Income Continuous Operations                    20721000000.0   \nTax Provision                                        3936000000.0   \nPretax Income                                       24657000000.0   \nOther Income Expense                                 -237000000.0   \nOther Non Operating Income Expenses                  -237000000.0   \nNet Non Operating Interest Income Expense             -74000000.0   \nInterest Expense Non Operating                        827000000.0   \nInterest Income Non Operating                         753000000.0   \nOperating Income                                    24894000000.0   \nOperating Expense                                   13201000000.0   \nResearch And Development                             6761000000.0   \nSelling General And Administration                   6440000000.0   \nGross Profit                                        38095000000.0   \nCost Of Revenue                                     52051000000.0   \nTotal Revenue                                       90146000000.0   \nOperating Revenue                                   90146000000.0   \n\n                                                       2022-06-30  \nTax Effect Of Unusual Items                                   0.0  \nTax Rate For Calcs                                       0.157114  \nNormalized EBITDA                                   25881000000.0  \nNet Income From Continuing Operation Net Minori...  19442000000.0  \nReconciled Depreciation                              2805000000.0  \nReconciled Cost Of Revenue                          47074000000.0  \nEBIT                                                23076000000.0  \nNet Interest Income                                     3000000.0  \nInterest Expense                                      719000000.0  \nInterest Income                                       722000000.0  \nNormalized Income                                   19442000000.0  \nNet Income From Continuing And Discontinued Ope...  19442000000.0  \nTotal Expenses                                      59883000000.0  \nTotal Operating Income As Reported                  23076000000.0  \nDiluted Average Shares                              16262203000.0  \nBasic Average Shares                                16162945000.0  \nDiluted EPS                                                   1.2  \nBasic EPS                                                     1.2  \nDiluted NI Availto Com Stockholders                 19442000000.0  \nNet Income Common Stockholders                      19442000000.0  \nNet Income                                          19442000000.0  \nNet Income Including Noncontrolling Interests       19442000000.0  \nNet Income Continuous Operations                    19442000000.0  \nTax Provision                                        3624000000.0  \nPretax Income                                       23066000000.0  \nOther Income Expense                                  -10000000.0  \nOther Non Operating Income Expenses                   -10000000.0  \nNet Non Operating Interest Income Expense               3000000.0  \nInterest Expense Non Operating                        719000000.0  \nInterest Income Non Operating                         722000000.0  \nOperating Income                                    23076000000.0  \nOperating Expense                                   12809000000.0  \nResearch And Development                             6797000000.0  \nSelling General And Administration                   6012000000.0  \nGross Profit                                        35885000000.0  \nCost Of Revenue                                     47074000000.0  \nTotal Revenue                                       82959000000.0  \nOperating Revenue                                   82959000000.0  ",
      "text/html": "<div>\n<style scoped>\n    .dataframe tbody tr th:only-of-type {\n        vertical-align: middle;\n    }\n\n    .dataframe tbody tr th {\n        vertical-align: top;\n    }\n\n    .dataframe thead th {\n        text-align: right;\n    }\n</style>\n<table border=\"1\" class=\"dataframe\">\n  <thead>\n    <tr style=\"text-align: right;\">\n      <th></th>\n      <th>2023-06-30</th>\n      <th>2023-03-31</th>\n      <th>2022-12-31</th>\n      <th>2022-09-30</th>\n      <th>2022-06-30</th>\n    </tr>\n  </thead>\n  <tbody>\n    <tr>\n      <th>Tax Effect Of Unusual Items</th>\n      <td>0.0</td>\n      <td>0.0</td>\n      <td>0.0</td>\n      <td>0.0</td>\n      <td>0.0</td>\n    </tr>\n    <tr>\n      <th>Tax Rate For Calcs</th>\n      <td>0.125456</td>\n      <td>0.148756</td>\n      <td>0.157904</td>\n      <td>0.15963</td>\n      <td>0.157114</td>\n    </tr>\n    <tr>\n      <th>Normalized EBITDA</th>\n      <td>26050000000.0</td>\n      <td>31216000000.0</td>\n      <td>38932000000.0</td>\n      <td>27759000000.0</td>\n      <td>25881000000.0</td>\n    </tr>\n    <tr>\n      <th>Net Income From Continuing Operation Net Minority Interest</th>\n      <td>19881000000.0</td>\n      <td>24160000000.0</td>\n      <td>29998000000.0</td>\n      <td>20721000000.0</td>\n      <td>19442000000.0</td>\n    </tr>\n    <tr>\n      <th>Reconciled Depreciation</th>\n      <td>3052000000.0</td>\n      <td>2898000000.0</td>\n      <td>2916000000.0</td>\n      <td>2865000000.0</td>\n      <td>2805000000.0</td>\n    </tr>\n    <tr>\n      <th>Reconciled Cost Of Revenue</th>\n      <td>45384000000.0</td>\n      <td>52860000000.0</td>\n      <td>66822000000.0</td>\n      <td>52051000000.0</td>\n      <td>47074000000.0</td>\n    </tr>\n    <tr>\n      <th>EBIT</th>\n      <td>22998000000.0</td>\n      <td>28318000000.0</td>\n      <td>36016000000.0</td>\n      <td>24894000000.0</td>\n      <td>23076000000.0</td>\n    </tr>\n    <tr>\n      <th>Net Interest Income</th>\n      <td>NaN</td>\n      <td>-12000000.0</td>\n      <td>-135000000.0</td>\n      <td>-74000000.0</td>\n      <td>3000000.0</td>\n    </tr>\n    <tr>\n      <th>Interest Expense</th>\n      <td>NaN</td>\n      <td>930000000.0</td>\n      <td>1003000000.0</td>\n      <td>827000000.0</td>\n      <td>719000000.0</td>\n    </tr>\n    <tr>\n      <th>Interest Income</th>\n      <td>NaN</td>\n      <td>918000000.0</td>\n      <td>868000000.0</td>\n      <td>753000000.0</td>\n      <td>722000000.0</td>\n    </tr>\n    <tr>\n      <th>Normalized Income</th>\n      <td>19881000000.0</td>\n      <td>24160000000.0</td>\n      <td>29998000000.0</td>\n      <td>20721000000.0</td>\n      <td>19442000000.0</td>\n    </tr>\n    <tr>\n      <th>Net Income From Continuing And Discontinued Operation</th>\n      <td>19881000000.0</td>\n      <td>24160000000.0</td>\n      <td>29998000000.0</td>\n      <td>20721000000.0</td>\n      <td>19442000000.0</td>\n    </tr>\n    <tr>\n      <th>Total Expenses</th>\n      <td>58799000000.0</td>\n      <td>66518000000.0</td>\n      <td>81138000000.0</td>\n      <td>65252000000.0</td>\n      <td>59883000000.0</td>\n    </tr>\n    <tr>\n      <th>Total Operating Income As Reported</th>\n      <td>22998000000.0</td>\n      <td>28318000000.0</td>\n      <td>36016000000.0</td>\n      <td>24894000000.0</td>\n      <td>23076000000.0</td>\n    </tr>\n    <tr>\n      <th>Diluted Average Shares</th>\n      <td>15775021000.0</td>\n      <td>15847050000.0</td>\n      <td>15955718000.0</td>\n      <td>16118465000.0</td>\n      <td>16262203000.0</td>\n    </tr>\n    <tr>\n      <th>Basic Average Shares</th>\n      <td>15697614000.0</td>\n      <td>15787154000.0</td>\n      <td>15892723000.0</td>\n      <td>16030382000.0</td>\n      <td>16162945000.0</td>\n    </tr>\n    <tr>\n      <th>Diluted EPS</th>\n      <td>1.26</td>\n      <td>1.52</td>\n      <td>1.88</td>\n      <td>1.29</td>\n      <td>1.2</td>\n    </tr>\n    <tr>\n      <th>Basic EPS</th>\n      <td>1.27</td>\n      <td>1.53</td>\n      <td>1.89</td>\n      <td>1.29</td>\n      <td>1.2</td>\n    </tr>\n    <tr>\n      <th>Diluted NI Availto Com Stockholders</th>\n      <td>19881000000.0</td>\n      <td>24160000000.0</td>\n      <td>29998000000.0</td>\n      <td>20721000000.0</td>\n      <td>19442000000.0</td>\n    </tr>\n    <tr>\n      <th>Net Income Common Stockholders</th>\n      <td>19881000000.0</td>\n      <td>24160000000.0</td>\n      <td>29998000000.0</td>\n      <td>20721000000.0</td>\n      <td>19442000000.0</td>\n    </tr>\n    <tr>\n      <th>Net Income</th>\n      <td>19881000000.0</td>\n      <td>24160000000.0</td>\n      <td>29998000000.0</td>\n      <td>20721000000.0</td>\n      <td>19442000000.0</td>\n    </tr>\n    <tr>\n      <th>Net Income Including Noncontrolling Interests</th>\n      <td>19881000000.0</td>\n      <td>24160000000.0</td>\n      <td>29998000000.0</td>\n      <td>20721000000.0</td>\n      <td>19442000000.0</td>\n    </tr>\n    <tr>\n      <th>Net Income Continuous Operations</th>\n      <td>19881000000.0</td>\n      <td>24160000000.0</td>\n      <td>29998000000.0</td>\n      <td>20721000000.0</td>\n      <td>19442000000.0</td>\n    </tr>\n    <tr>\n      <th>Tax Provision</th>\n      <td>2852000000.0</td>\n      <td>4222000000.0</td>\n      <td>5625000000.0</td>\n      <td>3936000000.0</td>\n      <td>3624000000.0</td>\n    </tr>\n    <tr>\n      <th>Pretax Income</th>\n      <td>22733000000.0</td>\n      <td>28382000000.0</td>\n      <td>35623000000.0</td>\n      <td>24657000000.0</td>\n      <td>23066000000.0</td>\n    </tr>\n    <tr>\n      <th>Other Income Expense</th>\n      <td>-265000000.0</td>\n      <td>64000000.0</td>\n      <td>-393000000.0</td>\n      <td>-237000000.0</td>\n      <td>-10000000.0</td>\n    </tr>\n    <tr>\n      <th>Other Non Operating Income Expenses</th>\n      <td>-265000000.0</td>\n      <td>64000000.0</td>\n      <td>-393000000.0</td>\n      <td>-237000000.0</td>\n      <td>-10000000.0</td>\n    </tr>\n    <tr>\n      <th>Net Non Operating Interest Income Expense</th>\n      <td>NaN</td>\n      <td>-12000000.0</td>\n      <td>-135000000.0</td>\n      <td>-74000000.0</td>\n      <td>3000000.0</td>\n    </tr>\n    <tr>\n      <th>Interest Expense Non Operating</th>\n      <td>NaN</td>\n      <td>930000000.0</td>\n      <td>1003000000.0</td>\n      <td>827000000.0</td>\n      <td>719000000.0</td>\n    </tr>\n    <tr>\n      <th>Interest Income Non Operating</th>\n      <td>NaN</td>\n      <td>918000000.0</td>\n      <td>868000000.0</td>\n      <td>753000000.0</td>\n      <td>722000000.0</td>\n    </tr>\n    <tr>\n      <th>Operating Income</th>\n      <td>22998000000.0</td>\n      <td>28318000000.0</td>\n      <td>36016000000.0</td>\n      <td>24894000000.0</td>\n      <td>23076000000.0</td>\n    </tr>\n    <tr>\n      <th>Operating Expense</th>\n      <td>13415000000.0</td>\n      <td>13658000000.0</td>\n      <td>14316000000.0</td>\n      <td>13201000000.0</td>\n      <td>12809000000.0</td>\n    </tr>\n    <tr>\n      <th>Research And Development</th>\n      <td>7442000000.0</td>\n      <td>7457000000.0</td>\n      <td>7709000000.0</td>\n      <td>6761000000.0</td>\n      <td>6797000000.0</td>\n    </tr>\n    <tr>\n      <th>Selling General And Administration</th>\n      <td>5973000000.0</td>\n      <td>6201000000.0</td>\n      <td>6607000000.0</td>\n      <td>6440000000.0</td>\n      <td>6012000000.0</td>\n    </tr>\n    <tr>\n      <th>Gross Profit</th>\n      <td>36413000000.0</td>\n      <td>41976000000.0</td>\n      <td>50332000000.0</td>\n      <td>38095000000.0</td>\n      <td>35885000000.0</td>\n    </tr>\n    <tr>\n      <th>Cost Of Revenue</th>\n      <td>45384000000.0</td>\n      <td>52860000000.0</td>\n      <td>66822000000.0</td>\n      <td>52051000000.0</td>\n      <td>47074000000.0</td>\n    </tr>\n    <tr>\n      <th>Total Revenue</th>\n      <td>81797000000.0</td>\n      <td>94836000000.0</td>\n      <td>117154000000.0</td>\n      <td>90146000000.0</td>\n      <td>82959000000.0</td>\n    </tr>\n    <tr>\n      <th>Operating Revenue</th>\n      <td>81797000000.0</td>\n      <td>94836000000.0</td>\n      <td>117154000000.0</td>\n      <td>90146000000.0</td>\n      <td>82959000000.0</td>\n    </tr>\n  </tbody>\n</table>\n</div>"
     },
     "execution_count": 14,
     "metadata": {},
     "output_type": "execute_result"
    }
   ],
   "source": [
    "ticker.quarterly_financials"
   ]
  },
  {
   "cell_type": "markdown",
   "metadata": {},
   "source": [
    "### Annual and Quarterly Balance Sheet"
   ]
  },
  {
   "cell_type": "code",
   "execution_count": 20,
   "metadata": {
    "ExecuteTime": {
     "end_time": "2023-08-07T05:19:53.877838900Z",
     "start_time": "2023-08-07T05:19:53.858148400Z"
    }
   },
   "outputs": [
    {
     "data": {
      "text/plain": "                                                        2022-09-30  \\\nOrdinary Shares Number                               15943425000.0   \nShare Issued                                         15943425000.0   \nNet Debt                                             96423000000.0   \nTotal Debt                                          120069000000.0   \nTangible Book Value                                  50672000000.0   \nInvested Capital                                    170741000000.0   \nWorking Capital                                     -18577000000.0   \nNet Tangible Assets                                  50672000000.0   \nCommon Stock Equity                                  50672000000.0   \nTotal Capitalization                                149631000000.0   \nTotal Equity Gross Minority Interest                 50672000000.0   \nStockholders Equity                                  50672000000.0   \nGains Losses Not Affecting Retained Earnings        -11109000000.0   \nRetained Earnings                                    -3068000000.0   \nCapital Stock                                        64849000000.0   \nCommon Stock                                         64849000000.0   \nTotal Liabilities Net Minority Interest             302083000000.0   \nTotal Non Current Liabilities Net Minority Inte...  148101000000.0   \nOther Non Current Liabilities                        49142000000.0   \nTradeand Other Payables Non Current                  16657000000.0   \nLong Term Debt And Capital Lease Obligation          98959000000.0   \nLong Term Debt                                       98959000000.0   \nCurrent Liabilities                                 153982000000.0   \nOther Current Liabilities                            60845000000.0   \nCurrent Deferred Liabilities                          7912000000.0   \nCurrent Deferred Revenue                              7912000000.0   \nCurrent Debt And Capital Lease Obligation            21110000000.0   \nCurrent Debt                                         21110000000.0   \nOther Current Borrowings                             11128000000.0   \nCommercial Paper                                      9982000000.0   \nPayables And Accrued Expenses                        64115000000.0   \nPayables                                             64115000000.0   \nAccounts Payable                                     64115000000.0   \nTotal Assets                                        352755000000.0   \nTotal Non Current Assets                            217350000000.0   \nOther Non Current Assets                             54428000000.0   \nInvestments And Advances                            120805000000.0   \nOther Investments                                   120805000000.0   \nInvestmentin Financial Assets                       120805000000.0   \nAvailable For Sale Securities                       120805000000.0   \nNet PPE                                              42117000000.0   \nAccumulated Depreciation                            -72340000000.0   \nGross PPE                                           114457000000.0   \nLeases                                               11271000000.0   \nMachinery Furniture Equipment                        81060000000.0   \nLand And Improvements                                22126000000.0   \nProperties                                                     0.0   \nCurrent Assets                                      135405000000.0   \nOther Current Assets                                 21223000000.0   \nInventory                                             4946000000.0   \nReceivables                                          60932000000.0   \nOther Receivables                                    32748000000.0   \nAccounts Receivable                                  28184000000.0   \nCash Cash Equivalents And Short Term Investments     48304000000.0   \nOther Short Term Investments                         24658000000.0   \nCash And Cash Equivalents                            23646000000.0   \nCash Equivalents                                      5100000000.0   \nCash Financial                                       18546000000.0   \n\n                                                        2021-09-30  \\\nOrdinary Shares Number                               16426786000.0   \nShare Issued                                         16426786000.0   \nNet Debt                                             89779000000.0   \nTotal Debt                                          124719000000.0   \nTangible Book Value                                  63090000000.0   \nInvested Capital                                    187809000000.0   \nWorking Capital                                       9355000000.0   \nNet Tangible Assets                                  63090000000.0   \nCommon Stock Equity                                  63090000000.0   \nTotal Capitalization                                172196000000.0   \nTotal Equity Gross Minority Interest                 63090000000.0   \nStockholders Equity                                  63090000000.0   \nGains Losses Not Affecting Retained Earnings           163000000.0   \nRetained Earnings                                     5562000000.0   \nCapital Stock                                        57365000000.0   \nCommon Stock                                         57365000000.0   \nTotal Liabilities Net Minority Interest             287912000000.0   \nTotal Non Current Liabilities Net Minority Inte...  162431000000.0   \nOther Non Current Liabilities                        53325000000.0   \nTradeand Other Payables Non Current                  24689000000.0   \nLong Term Debt And Capital Lease Obligation         109106000000.0   \nLong Term Debt                                      109106000000.0   \nCurrent Liabilities                                 125481000000.0   \nOther Current Liabilities                            47493000000.0   \nCurrent Deferred Liabilities                          7612000000.0   \nCurrent Deferred Revenue                              7612000000.0   \nCurrent Debt And Capital Lease Obligation            15613000000.0   \nCurrent Debt                                         15613000000.0   \nOther Current Borrowings                              9613000000.0   \nCommercial Paper                                      6000000000.0   \nPayables And Accrued Expenses                        54763000000.0   \nPayables                                             54763000000.0   \nAccounts Payable                                     54763000000.0   \nTotal Assets                                        351002000000.0   \nTotal Non Current Assets                            216166000000.0   \nOther Non Current Assets                             48849000000.0   \nInvestments And Advances                            127877000000.0   \nOther Investments                                   127877000000.0   \nInvestmentin Financial Assets                       127877000000.0   \nAvailable For Sale Securities                       127877000000.0   \nNet PPE                                              39440000000.0   \nAccumulated Depreciation                            -70283000000.0   \nGross PPE                                           109723000000.0   \nLeases                                               11023000000.0   \nMachinery Furniture Equipment                        78659000000.0   \nLand And Improvements                                20041000000.0   \nProperties                                                     0.0   \nCurrent Assets                                      134836000000.0   \nOther Current Assets                                 14111000000.0   \nInventory                                             6580000000.0   \nReceivables                                          51506000000.0   \nOther Receivables                                    25228000000.0   \nAccounts Receivable                                  26278000000.0   \nCash Cash Equivalents And Short Term Investments     62639000000.0   \nOther Short Term Investments                         27699000000.0   \nCash And Cash Equivalents                            34940000000.0   \nCash Equivalents                                     17635000000.0   \nCash Financial                                       17305000000.0   \n\n                                                        2020-09-30  \\\nOrdinary Shares Number                               16976763000.0   \nShare Issued                                         16976763000.0   \nNet Debt                                             74420000000.0   \nTotal Debt                                          112436000000.0   \nTangible Book Value                                  65339000000.0   \nInvested Capital                                    177775000000.0   \nWorking Capital                                      38321000000.0   \nNet Tangible Assets                                  65339000000.0   \nCommon Stock Equity                                  65339000000.0   \nTotal Capitalization                                164006000000.0   \nTotal Equity Gross Minority Interest                 65339000000.0   \nStockholders Equity                                  65339000000.0   \nGains Losses Not Affecting Retained Earnings          -406000000.0   \nRetained Earnings                                    14966000000.0   \nCapital Stock                                        50779000000.0   \nCommon Stock                                         50779000000.0   \nTotal Liabilities Net Minority Interest             258549000000.0   \nTotal Non Current Liabilities Net Minority Inte...  153157000000.0   \nOther Non Current Liabilities                        54490000000.0   \nTradeand Other Payables Non Current                  28170000000.0   \nLong Term Debt And Capital Lease Obligation          98667000000.0   \nLong Term Debt                                       98667000000.0   \nCurrent Liabilities                                 105392000000.0   \nOther Current Liabilities                            42684000000.0   \nCurrent Deferred Liabilities                          6643000000.0   \nCurrent Deferred Revenue                              6643000000.0   \nCurrent Debt And Capital Lease Obligation            13769000000.0   \nCurrent Debt                                         13769000000.0   \nOther Current Borrowings                              8773000000.0   \nCommercial Paper                                      4996000000.0   \nPayables And Accrued Expenses                        42296000000.0   \nPayables                                             42296000000.0   \nAccounts Payable                                     42296000000.0   \nTotal Assets                                        323888000000.0   \nTotal Non Current Assets                            180175000000.0   \nOther Non Current Assets                             42522000000.0   \nInvestments And Advances                            100887000000.0   \nOther Investments                                   100887000000.0   \nInvestmentin Financial Assets                       100887000000.0   \nAvailable For Sale Securities                       100887000000.0   \nNet PPE                                              36766000000.0   \nAccumulated Depreciation                            -66760000000.0   \nGross PPE                                           103526000000.0   \nLeases                                               10283000000.0   \nMachinery Furniture Equipment                        75291000000.0   \nLand And Improvements                                17952000000.0   \nProperties                                                     0.0   \nCurrent Assets                                      143713000000.0   \nOther Current Assets                                 11264000000.0   \nInventory                                             4061000000.0   \nReceivables                                          37445000000.0   \nOther Receivables                                    21325000000.0   \nAccounts Receivable                                  16120000000.0   \nCash Cash Equivalents And Short Term Investments     90943000000.0   \nOther Short Term Investments                         52927000000.0   \nCash And Cash Equivalents                            38016000000.0   \nCash Equivalents                                     20243000000.0   \nCash Financial                                       17773000000.0   \n\n                                                        2019-09-30  \nOrdinary Shares Number                               17772944000.0  \nShare Issued                                         17772944000.0  \nNet Debt                                             59203000000.0  \nTotal Debt                                          108047000000.0  \nTangible Book Value                                  90488000000.0  \nInvested Capital                                    198535000000.0  \nWorking Capital                                      57101000000.0  \nNet Tangible Assets                                  90488000000.0  \nCommon Stock Equity                                  90488000000.0  \nTotal Capitalization                                182295000000.0  \nTotal Equity Gross Minority Interest                 90488000000.0  \nStockholders Equity                                  90488000000.0  \nGains Losses Not Affecting Retained Earnings          -584000000.0  \nRetained Earnings                                    45898000000.0  \nCapital Stock                                        45174000000.0  \nCommon Stock                                         45174000000.0  \nTotal Liabilities Net Minority Interest             248028000000.0  \nTotal Non Current Liabilities Net Minority Inte...  142310000000.0  \nOther Non Current Liabilities                        50503000000.0  \nTradeand Other Payables Non Current                  29545000000.0  \nLong Term Debt And Capital Lease Obligation          91807000000.0  \nLong Term Debt                                       91807000000.0  \nCurrent Liabilities                                 105718000000.0  \nOther Current Liabilities                            37720000000.0  \nCurrent Deferred Liabilities                          5522000000.0  \nCurrent Deferred Revenue                              5522000000.0  \nCurrent Debt And Capital Lease Obligation            16240000000.0  \nCurrent Debt                                         16240000000.0  \nOther Current Borrowings                             10260000000.0  \nCommercial Paper                                      5980000000.0  \nPayables And Accrued Expenses                        46236000000.0  \nPayables                                             46236000000.0  \nAccounts Payable                                     46236000000.0  \nTotal Assets                                        338516000000.0  \nTotal Non Current Assets                            175697000000.0  \nOther Non Current Assets                             32978000000.0  \nInvestments And Advances                            105341000000.0  \nOther Investments                                   105341000000.0  \nInvestmentin Financial Assets                       105341000000.0  \nAvailable For Sale Securities                       105341000000.0  \nNet PPE                                              37378000000.0  \nAccumulated Depreciation                            -58579000000.0  \nGross PPE                                            95957000000.0  \nLeases                                                9075000000.0  \nMachinery Furniture Equipment                        69797000000.0  \nLand And Improvements                                17085000000.0  \nProperties                                                     0.0  \nCurrent Assets                                      162819000000.0  \nOther Current Assets                                 12352000000.0  \nInventory                                             4106000000.0  \nReceivables                                          45804000000.0  \nOther Receivables                                    22878000000.0  \nAccounts Receivable                                  22926000000.0  \nCash Cash Equivalents And Short Term Investments    100557000000.0  \nOther Short Term Investments                         51713000000.0  \nCash And Cash Equivalents                            48844000000.0  \nCash Equivalents                                     36640000000.0  \nCash Financial                                       12204000000.0  ",
      "text/html": "<div>\n<style scoped>\n    .dataframe tbody tr th:only-of-type {\n        vertical-align: middle;\n    }\n\n    .dataframe tbody tr th {\n        vertical-align: top;\n    }\n\n    .dataframe thead th {\n        text-align: right;\n    }\n</style>\n<table border=\"1\" class=\"dataframe\">\n  <thead>\n    <tr style=\"text-align: right;\">\n      <th></th>\n      <th>2022-09-30</th>\n      <th>2021-09-30</th>\n      <th>2020-09-30</th>\n      <th>2019-09-30</th>\n    </tr>\n  </thead>\n  <tbody>\n    <tr>\n      <th>Ordinary Shares Number</th>\n      <td>15943425000.0</td>\n      <td>16426786000.0</td>\n      <td>16976763000.0</td>\n      <td>17772944000.0</td>\n    </tr>\n    <tr>\n      <th>Share Issued</th>\n      <td>15943425000.0</td>\n      <td>16426786000.0</td>\n      <td>16976763000.0</td>\n      <td>17772944000.0</td>\n    </tr>\n    <tr>\n      <th>Net Debt</th>\n      <td>96423000000.0</td>\n      <td>89779000000.0</td>\n      <td>74420000000.0</td>\n      <td>59203000000.0</td>\n    </tr>\n    <tr>\n      <th>Total Debt</th>\n      <td>120069000000.0</td>\n      <td>124719000000.0</td>\n      <td>112436000000.0</td>\n      <td>108047000000.0</td>\n    </tr>\n    <tr>\n      <th>Tangible Book Value</th>\n      <td>50672000000.0</td>\n      <td>63090000000.0</td>\n      <td>65339000000.0</td>\n      <td>90488000000.0</td>\n    </tr>\n    <tr>\n      <th>Invested Capital</th>\n      <td>170741000000.0</td>\n      <td>187809000000.0</td>\n      <td>177775000000.0</td>\n      <td>198535000000.0</td>\n    </tr>\n    <tr>\n      <th>Working Capital</th>\n      <td>-18577000000.0</td>\n      <td>9355000000.0</td>\n      <td>38321000000.0</td>\n      <td>57101000000.0</td>\n    </tr>\n    <tr>\n      <th>Net Tangible Assets</th>\n      <td>50672000000.0</td>\n      <td>63090000000.0</td>\n      <td>65339000000.0</td>\n      <td>90488000000.0</td>\n    </tr>\n    <tr>\n      <th>Common Stock Equity</th>\n      <td>50672000000.0</td>\n      <td>63090000000.0</td>\n      <td>65339000000.0</td>\n      <td>90488000000.0</td>\n    </tr>\n    <tr>\n      <th>Total Capitalization</th>\n      <td>149631000000.0</td>\n      <td>172196000000.0</td>\n      <td>164006000000.0</td>\n      <td>182295000000.0</td>\n    </tr>\n    <tr>\n      <th>Total Equity Gross Minority Interest</th>\n      <td>50672000000.0</td>\n      <td>63090000000.0</td>\n      <td>65339000000.0</td>\n      <td>90488000000.0</td>\n    </tr>\n    <tr>\n      <th>Stockholders Equity</th>\n      <td>50672000000.0</td>\n      <td>63090000000.0</td>\n      <td>65339000000.0</td>\n      <td>90488000000.0</td>\n    </tr>\n    <tr>\n      <th>Gains Losses Not Affecting Retained Earnings</th>\n      <td>-11109000000.0</td>\n      <td>163000000.0</td>\n      <td>-406000000.0</td>\n      <td>-584000000.0</td>\n    </tr>\n    <tr>\n      <th>Retained Earnings</th>\n      <td>-3068000000.0</td>\n      <td>5562000000.0</td>\n      <td>14966000000.0</td>\n      <td>45898000000.0</td>\n    </tr>\n    <tr>\n      <th>Capital Stock</th>\n      <td>64849000000.0</td>\n      <td>57365000000.0</td>\n      <td>50779000000.0</td>\n      <td>45174000000.0</td>\n    </tr>\n    <tr>\n      <th>Common Stock</th>\n      <td>64849000000.0</td>\n      <td>57365000000.0</td>\n      <td>50779000000.0</td>\n      <td>45174000000.0</td>\n    </tr>\n    <tr>\n      <th>Total Liabilities Net Minority Interest</th>\n      <td>302083000000.0</td>\n      <td>287912000000.0</td>\n      <td>258549000000.0</td>\n      <td>248028000000.0</td>\n    </tr>\n    <tr>\n      <th>Total Non Current Liabilities Net Minority Interest</th>\n      <td>148101000000.0</td>\n      <td>162431000000.0</td>\n      <td>153157000000.0</td>\n      <td>142310000000.0</td>\n    </tr>\n    <tr>\n      <th>Other Non Current Liabilities</th>\n      <td>49142000000.0</td>\n      <td>53325000000.0</td>\n      <td>54490000000.0</td>\n      <td>50503000000.0</td>\n    </tr>\n    <tr>\n      <th>Tradeand Other Payables Non Current</th>\n      <td>16657000000.0</td>\n      <td>24689000000.0</td>\n      <td>28170000000.0</td>\n      <td>29545000000.0</td>\n    </tr>\n    <tr>\n      <th>Long Term Debt And Capital Lease Obligation</th>\n      <td>98959000000.0</td>\n      <td>109106000000.0</td>\n      <td>98667000000.0</td>\n      <td>91807000000.0</td>\n    </tr>\n    <tr>\n      <th>Long Term Debt</th>\n      <td>98959000000.0</td>\n      <td>109106000000.0</td>\n      <td>98667000000.0</td>\n      <td>91807000000.0</td>\n    </tr>\n    <tr>\n      <th>Current Liabilities</th>\n      <td>153982000000.0</td>\n      <td>125481000000.0</td>\n      <td>105392000000.0</td>\n      <td>105718000000.0</td>\n    </tr>\n    <tr>\n      <th>Other Current Liabilities</th>\n      <td>60845000000.0</td>\n      <td>47493000000.0</td>\n      <td>42684000000.0</td>\n      <td>37720000000.0</td>\n    </tr>\n    <tr>\n      <th>Current Deferred Liabilities</th>\n      <td>7912000000.0</td>\n      <td>7612000000.0</td>\n      <td>6643000000.0</td>\n      <td>5522000000.0</td>\n    </tr>\n    <tr>\n      <th>Current Deferred Revenue</th>\n      <td>7912000000.0</td>\n      <td>7612000000.0</td>\n      <td>6643000000.0</td>\n      <td>5522000000.0</td>\n    </tr>\n    <tr>\n      <th>Current Debt And Capital Lease Obligation</th>\n      <td>21110000000.0</td>\n      <td>15613000000.0</td>\n      <td>13769000000.0</td>\n      <td>16240000000.0</td>\n    </tr>\n    <tr>\n      <th>Current Debt</th>\n      <td>21110000000.0</td>\n      <td>15613000000.0</td>\n      <td>13769000000.0</td>\n      <td>16240000000.0</td>\n    </tr>\n    <tr>\n      <th>Other Current Borrowings</th>\n      <td>11128000000.0</td>\n      <td>9613000000.0</td>\n      <td>8773000000.0</td>\n      <td>10260000000.0</td>\n    </tr>\n    <tr>\n      <th>Commercial Paper</th>\n      <td>9982000000.0</td>\n      <td>6000000000.0</td>\n      <td>4996000000.0</td>\n      <td>5980000000.0</td>\n    </tr>\n    <tr>\n      <th>Payables And Accrued Expenses</th>\n      <td>64115000000.0</td>\n      <td>54763000000.0</td>\n      <td>42296000000.0</td>\n      <td>46236000000.0</td>\n    </tr>\n    <tr>\n      <th>Payables</th>\n      <td>64115000000.0</td>\n      <td>54763000000.0</td>\n      <td>42296000000.0</td>\n      <td>46236000000.0</td>\n    </tr>\n    <tr>\n      <th>Accounts Payable</th>\n      <td>64115000000.0</td>\n      <td>54763000000.0</td>\n      <td>42296000000.0</td>\n      <td>46236000000.0</td>\n    </tr>\n    <tr>\n      <th>Total Assets</th>\n      <td>352755000000.0</td>\n      <td>351002000000.0</td>\n      <td>323888000000.0</td>\n      <td>338516000000.0</td>\n    </tr>\n    <tr>\n      <th>Total Non Current Assets</th>\n      <td>217350000000.0</td>\n      <td>216166000000.0</td>\n      <td>180175000000.0</td>\n      <td>175697000000.0</td>\n    </tr>\n    <tr>\n      <th>Other Non Current Assets</th>\n      <td>54428000000.0</td>\n      <td>48849000000.0</td>\n      <td>42522000000.0</td>\n      <td>32978000000.0</td>\n    </tr>\n    <tr>\n      <th>Investments And Advances</th>\n      <td>120805000000.0</td>\n      <td>127877000000.0</td>\n      <td>100887000000.0</td>\n      <td>105341000000.0</td>\n    </tr>\n    <tr>\n      <th>Other Investments</th>\n      <td>120805000000.0</td>\n      <td>127877000000.0</td>\n      <td>100887000000.0</td>\n      <td>105341000000.0</td>\n    </tr>\n    <tr>\n      <th>Investmentin Financial Assets</th>\n      <td>120805000000.0</td>\n      <td>127877000000.0</td>\n      <td>100887000000.0</td>\n      <td>105341000000.0</td>\n    </tr>\n    <tr>\n      <th>Available For Sale Securities</th>\n      <td>120805000000.0</td>\n      <td>127877000000.0</td>\n      <td>100887000000.0</td>\n      <td>105341000000.0</td>\n    </tr>\n    <tr>\n      <th>Net PPE</th>\n      <td>42117000000.0</td>\n      <td>39440000000.0</td>\n      <td>36766000000.0</td>\n      <td>37378000000.0</td>\n    </tr>\n    <tr>\n      <th>Accumulated Depreciation</th>\n      <td>-72340000000.0</td>\n      <td>-70283000000.0</td>\n      <td>-66760000000.0</td>\n      <td>-58579000000.0</td>\n    </tr>\n    <tr>\n      <th>Gross PPE</th>\n      <td>114457000000.0</td>\n      <td>109723000000.0</td>\n      <td>103526000000.0</td>\n      <td>95957000000.0</td>\n    </tr>\n    <tr>\n      <th>Leases</th>\n      <td>11271000000.0</td>\n      <td>11023000000.0</td>\n      <td>10283000000.0</td>\n      <td>9075000000.0</td>\n    </tr>\n    <tr>\n      <th>Machinery Furniture Equipment</th>\n      <td>81060000000.0</td>\n      <td>78659000000.0</td>\n      <td>75291000000.0</td>\n      <td>69797000000.0</td>\n    </tr>\n    <tr>\n      <th>Land And Improvements</th>\n      <td>22126000000.0</td>\n      <td>20041000000.0</td>\n      <td>17952000000.0</td>\n      <td>17085000000.0</td>\n    </tr>\n    <tr>\n      <th>Properties</th>\n      <td>0.0</td>\n      <td>0.0</td>\n      <td>0.0</td>\n      <td>0.0</td>\n    </tr>\n    <tr>\n      <th>Current Assets</th>\n      <td>135405000000.0</td>\n      <td>134836000000.0</td>\n      <td>143713000000.0</td>\n      <td>162819000000.0</td>\n    </tr>\n    <tr>\n      <th>Other Current Assets</th>\n      <td>21223000000.0</td>\n      <td>14111000000.0</td>\n      <td>11264000000.0</td>\n      <td>12352000000.0</td>\n    </tr>\n    <tr>\n      <th>Inventory</th>\n      <td>4946000000.0</td>\n      <td>6580000000.0</td>\n      <td>4061000000.0</td>\n      <td>4106000000.0</td>\n    </tr>\n    <tr>\n      <th>Receivables</th>\n      <td>60932000000.0</td>\n      <td>51506000000.0</td>\n      <td>37445000000.0</td>\n      <td>45804000000.0</td>\n    </tr>\n    <tr>\n      <th>Other Receivables</th>\n      <td>32748000000.0</td>\n      <td>25228000000.0</td>\n      <td>21325000000.0</td>\n      <td>22878000000.0</td>\n    </tr>\n    <tr>\n      <th>Accounts Receivable</th>\n      <td>28184000000.0</td>\n      <td>26278000000.0</td>\n      <td>16120000000.0</td>\n      <td>22926000000.0</td>\n    </tr>\n    <tr>\n      <th>Cash Cash Equivalents And Short Term Investments</th>\n      <td>48304000000.0</td>\n      <td>62639000000.0</td>\n      <td>90943000000.0</td>\n      <td>100557000000.0</td>\n    </tr>\n    <tr>\n      <th>Other Short Term Investments</th>\n      <td>24658000000.0</td>\n      <td>27699000000.0</td>\n      <td>52927000000.0</td>\n      <td>51713000000.0</td>\n    </tr>\n    <tr>\n      <th>Cash And Cash Equivalents</th>\n      <td>23646000000.0</td>\n      <td>34940000000.0</td>\n      <td>38016000000.0</td>\n      <td>48844000000.0</td>\n    </tr>\n    <tr>\n      <th>Cash Equivalents</th>\n      <td>5100000000.0</td>\n      <td>17635000000.0</td>\n      <td>20243000000.0</td>\n      <td>36640000000.0</td>\n    </tr>\n    <tr>\n      <th>Cash Financial</th>\n      <td>18546000000.0</td>\n      <td>17305000000.0</td>\n      <td>17773000000.0</td>\n      <td>12204000000.0</td>\n    </tr>\n  </tbody>\n</table>\n</div>"
     },
     "execution_count": 20,
     "metadata": {},
     "output_type": "execute_result"
    }
   ],
   "source": [
    "ticker.balance_sheet"
   ]
  },
  {
   "cell_type": "code",
   "execution_count": 16,
   "metadata": {
    "ExecuteTime": {
     "end_time": "2023-08-07T05:19:04.855279300Z",
     "start_time": "2023-08-07T05:19:04.267657900Z"
    }
   },
   "outputs": [
    {
     "data": {
      "text/plain": "                                                      2023-06-30  \\\nOrdinary Shares Number                             15647868000.0   \nShare Issued                                       15647868000.0   \nNet Debt                                           80872000000.0   \nTotal Debt                                        109280000000.0   \nTangible Book Value                                60274000000.0   \n...                                                          ...   \nCash Cash Equivalents And Short Term Investments   62482000000.0   \nOther Short Term Investments                       34074000000.0   \nCash And Cash Equivalents                          28408000000.0   \nCash Equivalents                                             NaN   \nCash Financial                                               NaN   \n\n                                                      2023-03-31  \\\nOrdinary Shares Number                             15723406000.0   \nShare Issued                                       15723406000.0   \nNet Debt                                           84928000000.0   \nTotal Debt                                        109615000000.0   \nTangible Book Value                                62158000000.0   \n...                                                          ...   \nCash Cash Equivalents And Short Term Investments   55872000000.0   \nOther Short Term Investments                       31185000000.0   \nCash And Cash Equivalents                          24687000000.0   \nCash Equivalents                                    4637000000.0   \nCash Financial                                     20050000000.0   \n\n                                                      2022-12-31  \\\nOrdinary Shares Number                             15842407000.0   \nShare Issued                                       15842407000.0   \nNet Debt                                           90575000000.0   \nTotal Debt                                        111110000000.0   \nTangible Book Value                                56727000000.0   \n...                                                          ...   \nCash Cash Equivalents And Short Term Investments   51355000000.0   \nOther Short Term Investments                       30820000000.0   \nCash And Cash Equivalents                          20535000000.0   \nCash Equivalents                                    2627000000.0   \nCash Financial                                     17908000000.0   \n\n                                                      2022-09-30  \\\nOrdinary Shares Number                             15943425000.0   \nShare Issued                                       15943425000.0   \nNet Debt                                           96423000000.0   \nTotal Debt                                        120069000000.0   \nTangible Book Value                                50672000000.0   \n...                                                          ...   \nCash Cash Equivalents And Short Term Investments   48304000000.0   \nOther Short Term Investments                       24658000000.0   \nCash And Cash Equivalents                          23646000000.0   \nCash Equivalents                                    5100000000.0   \nCash Financial                                     18546000000.0   \n\n                                                      2022-06-30  \nOrdinary Shares Number                             16095378000.0  \nShare Issued                                       16095378000.0  \nNet Debt                                           92189000000.0  \nTotal Debt                                        119691000000.0  \nTangible Book Value                                58107000000.0  \n...                                                          ...  \nCash Cash Equivalents And Short Term Investments   48231000000.0  \nOther Short Term Investments                       20729000000.0  \nCash And Cash Equivalents                          27502000000.0  \nCash Equivalents                                   14650000000.0  \nCash Financial                                     12852000000.0  \n\n[61 rows x 5 columns]",
      "text/html": "<div>\n<style scoped>\n    .dataframe tbody tr th:only-of-type {\n        vertical-align: middle;\n    }\n\n    .dataframe tbody tr th {\n        vertical-align: top;\n    }\n\n    .dataframe thead th {\n        text-align: right;\n    }\n</style>\n<table border=\"1\" class=\"dataframe\">\n  <thead>\n    <tr style=\"text-align: right;\">\n      <th></th>\n      <th>2023-06-30</th>\n      <th>2023-03-31</th>\n      <th>2022-12-31</th>\n      <th>2022-09-30</th>\n      <th>2022-06-30</th>\n    </tr>\n  </thead>\n  <tbody>\n    <tr>\n      <th>Ordinary Shares Number</th>\n      <td>15647868000.0</td>\n      <td>15723406000.0</td>\n      <td>15842407000.0</td>\n      <td>15943425000.0</td>\n      <td>16095378000.0</td>\n    </tr>\n    <tr>\n      <th>Share Issued</th>\n      <td>15647868000.0</td>\n      <td>15723406000.0</td>\n      <td>15842407000.0</td>\n      <td>15943425000.0</td>\n      <td>16095378000.0</td>\n    </tr>\n    <tr>\n      <th>Net Debt</th>\n      <td>80872000000.0</td>\n      <td>84928000000.0</td>\n      <td>90575000000.0</td>\n      <td>96423000000.0</td>\n      <td>92189000000.0</td>\n    </tr>\n    <tr>\n      <th>Total Debt</th>\n      <td>109280000000.0</td>\n      <td>109615000000.0</td>\n      <td>111110000000.0</td>\n      <td>120069000000.0</td>\n      <td>119691000000.0</td>\n    </tr>\n    <tr>\n      <th>Tangible Book Value</th>\n      <td>60274000000.0</td>\n      <td>62158000000.0</td>\n      <td>56727000000.0</td>\n      <td>50672000000.0</td>\n      <td>58107000000.0</td>\n    </tr>\n    <tr>\n      <th>...</th>\n      <td>...</td>\n      <td>...</td>\n      <td>...</td>\n      <td>...</td>\n      <td>...</td>\n    </tr>\n    <tr>\n      <th>Cash Cash Equivalents And Short Term Investments</th>\n      <td>62482000000.0</td>\n      <td>55872000000.0</td>\n      <td>51355000000.0</td>\n      <td>48304000000.0</td>\n      <td>48231000000.0</td>\n    </tr>\n    <tr>\n      <th>Other Short Term Investments</th>\n      <td>34074000000.0</td>\n      <td>31185000000.0</td>\n      <td>30820000000.0</td>\n      <td>24658000000.0</td>\n      <td>20729000000.0</td>\n    </tr>\n    <tr>\n      <th>Cash And Cash Equivalents</th>\n      <td>28408000000.0</td>\n      <td>24687000000.0</td>\n      <td>20535000000.0</td>\n      <td>23646000000.0</td>\n      <td>27502000000.0</td>\n    </tr>\n    <tr>\n      <th>Cash Equivalents</th>\n      <td>NaN</td>\n      <td>4637000000.0</td>\n      <td>2627000000.0</td>\n      <td>5100000000.0</td>\n      <td>14650000000.0</td>\n    </tr>\n    <tr>\n      <th>Cash Financial</th>\n      <td>NaN</td>\n      <td>20050000000.0</td>\n      <td>17908000000.0</td>\n      <td>18546000000.0</td>\n      <td>12852000000.0</td>\n    </tr>\n  </tbody>\n</table>\n<p>61 rows × 5 columns</p>\n</div>"
     },
     "execution_count": 16,
     "metadata": {},
     "output_type": "execute_result"
    }
   ],
   "source": [
    "ticker.quarterly_balance_sheet"
   ]
  },
  {
   "cell_type": "markdown",
   "metadata": {},
   "source": [
    "### Annual and Quarterly Cashflow Statement"
   ]
  },
  {
   "cell_type": "code",
   "execution_count": 17,
   "metadata": {
    "ExecuteTime": {
     "end_time": "2023-08-07T05:19:05.391687600Z",
     "start_time": "2023-08-07T05:19:04.849276800Z"
    }
   },
   "outputs": [
    {
     "data": {
      "text/plain": "                                                    2022-09-30  \\\nFree Cash Flow                                  111443000000.0   \nRepurchase Of Capital Stock                     -89402000000.0   \nRepayment Of Debt                                -9543000000.0   \nIssuance Of Debt                                  9420000000.0   \nIssuance Of Capital Stock                                  NaN   \nCapital Expenditure                             -10708000000.0   \nInterest Paid Supplemental Data                   2865000000.0   \nIncome Tax Paid Supplemental Data                19573000000.0   \nEnd Cash Position                                24977000000.0   \nBeginning Cash Position                          35929000000.0   \nChanges In Cash                                 -10952000000.0   \nFinancing Cash Flow                            -110749000000.0   \nCash Flow From Continuing Financing Activities -110749000000.0   \nNet Other Financing Charges                      -6383000000.0   \nCash Dividends Paid                             -14841000000.0   \nCommon Stock Dividend Paid                      -14841000000.0   \nNet Common Stock Issuance                       -89402000000.0   \nCommon Stock Payments                           -89402000000.0   \nCommon Stock Issuance                                      NaN   \nNet Issuance Payments Of Debt                     -123000000.0   \nNet Short Term Debt Issuance                      3955000000.0   \nShort Term Debt Payments                                   NaN   \nShort Term Debt Issuance                          3955000000.0   \nNet Long Term Debt Issuance                      -4078000000.0   \nLong Term Debt Payments                          -9543000000.0   \nLong Term Debt Issuance                           5465000000.0   \nInvesting Cash Flow                             -22354000000.0   \nCash Flow From Continuing Investing Activities  -22354000000.0   \nNet Other Investing Changes                      -1780000000.0   \nNet Investment Purchase And Sale                 -9560000000.0   \nSale Of Investment                               67363000000.0   \nPurchase Of Investment                          -76923000000.0   \nNet Business Purchase And Sale                    -306000000.0   \nPurchase Of Business                              -306000000.0   \nNet PPE Purchase And Sale                       -10708000000.0   \nPurchase Of PPE                                 -10708000000.0   \nOperating Cash Flow                             122151000000.0   \nCash Flow From Continuing Operating Activities  122151000000.0   \nChange In Working Capital                         1200000000.0   \nChange In Other Working Capital                    478000000.0   \nChange In Other Current Liabilities               5632000000.0   \nChange In Other Current Assets                   -6499000000.0   \nChange In Payables And Accrued Expense            9448000000.0   \nChange In Payable                                 9448000000.0   \nChange In Account Payable                         9448000000.0   \nChange In Inventory                               1484000000.0   \nChange In Receivables                            -9343000000.0   \nChanges In Account Receivables                   -1823000000.0   \nOther Non Cash Items                               111000000.0   \nStock Based Compensation                          9038000000.0   \nDeferred Tax                                       895000000.0   \nDeferred Income Tax                                895000000.0   \nDepreciation Amortization Depletion              11104000000.0   \nDepreciation And Amortization                    11104000000.0   \nNet Income From Continuing Operations            99803000000.0   \n\n                                                    2021-09-30  \\\nFree Cash Flow                                   92953000000.0   \nRepurchase Of Capital Stock                     -85971000000.0   \nRepayment Of Debt                                -8750000000.0   \nIssuance Of Debt                                 20393000000.0   \nIssuance Of Capital Stock                         1105000000.0   \nCapital Expenditure                             -11085000000.0   \nInterest Paid Supplemental Data                   2687000000.0   \nIncome Tax Paid Supplemental Data                25385000000.0   \nEnd Cash Position                                35929000000.0   \nBeginning Cash Position                          39789000000.0   \nChanges In Cash                                  -3860000000.0   \nFinancing Cash Flow                             -93353000000.0   \nCash Flow From Continuing Financing Activities  -93353000000.0   \nNet Other Financing Charges                      -6685000000.0   \nCash Dividends Paid                             -14467000000.0   \nCommon Stock Dividend Paid                      -14467000000.0   \nNet Common Stock Issuance                       -84866000000.0   \nCommon Stock Payments                           -85971000000.0   \nCommon Stock Issuance                             1105000000.0   \nNet Issuance Payments Of Debt                    12665000000.0   \nNet Short Term Debt Issuance                      1022000000.0   \nShort Term Debt Payments                                   NaN   \nShort Term Debt Issuance                                   NaN   \nNet Long Term Debt Issuance                      11643000000.0   \nLong Term Debt Payments                          -8750000000.0   \nLong Term Debt Issuance                          20393000000.0   \nInvesting Cash Flow                             -14545000000.0   \nCash Flow From Continuing Investing Activities  -14545000000.0   \nNet Other Investing Changes                       -352000000.0   \nNet Investment Purchase And Sale                 -3075000000.0   \nSale Of Investment                              106483000000.0   \nPurchase Of Investment                         -109558000000.0   \nNet Business Purchase And Sale                     -33000000.0   \nPurchase Of Business                               -33000000.0   \nNet PPE Purchase And Sale                       -11085000000.0   \nPurchase Of PPE                                 -11085000000.0   \nOperating Cash Flow                             104038000000.0   \nCash Flow From Continuing Operating Activities  104038000000.0   \nChange In Working Capital                        -4911000000.0   \nChange In Other Working Capital                   1676000000.0   \nChange In Other Current Liabilities               5799000000.0   \nChange In Other Current Assets                   -8042000000.0   \nChange In Payables And Accrued Expense           12326000000.0   \nChange In Payable                                12326000000.0   \nChange In Account Payable                        12326000000.0   \nChange In Inventory                              -2642000000.0   \nChange In Receivables                           -14028000000.0   \nChanges In Account Receivables                  -10125000000.0   \nOther Non Cash Items                              -147000000.0   \nStock Based Compensation                          7906000000.0   \nDeferred Tax                                     -4774000000.0   \nDeferred Income Tax                              -4774000000.0   \nDepreciation Amortization Depletion              11284000000.0   \nDepreciation And Amortization                    11284000000.0   \nNet Income From Continuing Operations            94680000000.0   \n\n                                                    2020-09-30     2019-09-30  \nFree Cash Flow                                   73365000000.0  58896000000.0  \nRepurchase Of Capital Stock                     -72358000000.0 -66897000000.0  \nRepayment Of Debt                               -13592000000.0  -8805000000.0  \nIssuance Of Debt                                 16091000000.0   6963000000.0  \nIssuance Of Capital Stock                          880000000.0    781000000.0  \nCapital Expenditure                              -7309000000.0 -10495000000.0  \nInterest Paid Supplemental Data                   3002000000.0   3423000000.0  \nIncome Tax Paid Supplemental Data                 9501000000.0  15263000000.0  \nEnd Cash Position                                39789000000.0  50224000000.0  \nBeginning Cash Position                          50224000000.0  25913000000.0  \nChanges In Cash                                 -10435000000.0  24311000000.0  \nFinancing Cash Flow                             -86820000000.0 -90976000000.0  \nCash Flow From Continuing Financing Activities  -86820000000.0 -90976000000.0  \nNet Other Financing Charges                      -3760000000.0  -2922000000.0  \nCash Dividends Paid                             -14081000000.0 -14119000000.0  \nCommon Stock Dividend Paid                      -14081000000.0 -14119000000.0  \nNet Common Stock Issuance                       -71478000000.0 -66116000000.0  \nCommon Stock Payments                           -72358000000.0 -66897000000.0  \nCommon Stock Issuance                              880000000.0    781000000.0  \nNet Issuance Payments Of Debt                     2499000000.0  -7819000000.0  \nNet Short Term Debt Issuance                      -963000000.0  -5977000000.0  \nShort Term Debt Payments                          -963000000.0            NaN  \nShort Term Debt Issuance                                   NaN            NaN  \nNet Long Term Debt Issuance                       3462000000.0  -1842000000.0  \nLong Term Debt Payments                         -12629000000.0  -8805000000.0  \nLong Term Debt Issuance                          16091000000.0   6963000000.0  \nInvesting Cash Flow                              -4289000000.0  45896000000.0  \nCash Flow From Continuing Investing Activities   -4289000000.0  45896000000.0  \nNet Other Investing Changes                       -791000000.0  -1078000000.0  \nNet Investment Purchase And Sale                  5335000000.0  58093000000.0  \nSale Of Investment                              120483000000.0  98724000000.0  \nPurchase Of Investment                         -115148000000.0 -40631000000.0  \nNet Business Purchase And Sale                   -1524000000.0   -624000000.0  \nPurchase Of Business                             -1524000000.0   -624000000.0  \nNet PPE Purchase And Sale                        -7309000000.0 -10495000000.0  \nPurchase Of PPE                                  -7309000000.0 -10495000000.0  \nOperating Cash Flow                              80674000000.0  69391000000.0  \nCash Flow From Continuing Operating Activities   80674000000.0  69391000000.0  \nChange In Working Capital                         5690000000.0  -3488000000.0  \nChange In Other Working Capital                   2081000000.0   -625000000.0  \nChange In Other Current Liabilities               8916000000.0  -4700000000.0  \nChange In Other Current Assets                   -9588000000.0    873000000.0  \nChange In Payables And Accrued Expense           -4062000000.0  -1923000000.0  \nChange In Payable                                -4062000000.0  -1923000000.0  \nChange In Account Payable                        -4062000000.0  -1923000000.0  \nChange In Inventory                               -127000000.0   -289000000.0  \nChange In Receivables                             8470000000.0   3176000000.0  \nChanges In Account Receivables                    6917000000.0    245000000.0  \nOther Non Cash Items                               -97000000.0   -652000000.0  \nStock Based Compensation                          6829000000.0   6068000000.0  \nDeferred Tax                                      -215000000.0   -340000000.0  \nDeferred Income Tax                               -215000000.0   -340000000.0  \nDepreciation Amortization Depletion              11056000000.0  12547000000.0  \nDepreciation And Amortization                    11056000000.0  12547000000.0  \nNet Income From Continuing Operations            57411000000.0  55256000000.0  ",
      "text/html": "<div>\n<style scoped>\n    .dataframe tbody tr th:only-of-type {\n        vertical-align: middle;\n    }\n\n    .dataframe tbody tr th {\n        vertical-align: top;\n    }\n\n    .dataframe thead th {\n        text-align: right;\n    }\n</style>\n<table border=\"1\" class=\"dataframe\">\n  <thead>\n    <tr style=\"text-align: right;\">\n      <th></th>\n      <th>2022-09-30</th>\n      <th>2021-09-30</th>\n      <th>2020-09-30</th>\n      <th>2019-09-30</th>\n    </tr>\n  </thead>\n  <tbody>\n    <tr>\n      <th>Free Cash Flow</th>\n      <td>111443000000.0</td>\n      <td>92953000000.0</td>\n      <td>73365000000.0</td>\n      <td>58896000000.0</td>\n    </tr>\n    <tr>\n      <th>Repurchase Of Capital Stock</th>\n      <td>-89402000000.0</td>\n      <td>-85971000000.0</td>\n      <td>-72358000000.0</td>\n      <td>-66897000000.0</td>\n    </tr>\n    <tr>\n      <th>Repayment Of Debt</th>\n      <td>-9543000000.0</td>\n      <td>-8750000000.0</td>\n      <td>-13592000000.0</td>\n      <td>-8805000000.0</td>\n    </tr>\n    <tr>\n      <th>Issuance Of Debt</th>\n      <td>9420000000.0</td>\n      <td>20393000000.0</td>\n      <td>16091000000.0</td>\n      <td>6963000000.0</td>\n    </tr>\n    <tr>\n      <th>Issuance Of Capital Stock</th>\n      <td>NaN</td>\n      <td>1105000000.0</td>\n      <td>880000000.0</td>\n      <td>781000000.0</td>\n    </tr>\n    <tr>\n      <th>Capital Expenditure</th>\n      <td>-10708000000.0</td>\n      <td>-11085000000.0</td>\n      <td>-7309000000.0</td>\n      <td>-10495000000.0</td>\n    </tr>\n    <tr>\n      <th>Interest Paid Supplemental Data</th>\n      <td>2865000000.0</td>\n      <td>2687000000.0</td>\n      <td>3002000000.0</td>\n      <td>3423000000.0</td>\n    </tr>\n    <tr>\n      <th>Income Tax Paid Supplemental Data</th>\n      <td>19573000000.0</td>\n      <td>25385000000.0</td>\n      <td>9501000000.0</td>\n      <td>15263000000.0</td>\n    </tr>\n    <tr>\n      <th>End Cash Position</th>\n      <td>24977000000.0</td>\n      <td>35929000000.0</td>\n      <td>39789000000.0</td>\n      <td>50224000000.0</td>\n    </tr>\n    <tr>\n      <th>Beginning Cash Position</th>\n      <td>35929000000.0</td>\n      <td>39789000000.0</td>\n      <td>50224000000.0</td>\n      <td>25913000000.0</td>\n    </tr>\n    <tr>\n      <th>Changes In Cash</th>\n      <td>-10952000000.0</td>\n      <td>-3860000000.0</td>\n      <td>-10435000000.0</td>\n      <td>24311000000.0</td>\n    </tr>\n    <tr>\n      <th>Financing Cash Flow</th>\n      <td>-110749000000.0</td>\n      <td>-93353000000.0</td>\n      <td>-86820000000.0</td>\n      <td>-90976000000.0</td>\n    </tr>\n    <tr>\n      <th>Cash Flow From Continuing Financing Activities</th>\n      <td>-110749000000.0</td>\n      <td>-93353000000.0</td>\n      <td>-86820000000.0</td>\n      <td>-90976000000.0</td>\n    </tr>\n    <tr>\n      <th>Net Other Financing Charges</th>\n      <td>-6383000000.0</td>\n      <td>-6685000000.0</td>\n      <td>-3760000000.0</td>\n      <td>-2922000000.0</td>\n    </tr>\n    <tr>\n      <th>Cash Dividends Paid</th>\n      <td>-14841000000.0</td>\n      <td>-14467000000.0</td>\n      <td>-14081000000.0</td>\n      <td>-14119000000.0</td>\n    </tr>\n    <tr>\n      <th>Common Stock Dividend Paid</th>\n      <td>-14841000000.0</td>\n      <td>-14467000000.0</td>\n      <td>-14081000000.0</td>\n      <td>-14119000000.0</td>\n    </tr>\n    <tr>\n      <th>Net Common Stock Issuance</th>\n      <td>-89402000000.0</td>\n      <td>-84866000000.0</td>\n      <td>-71478000000.0</td>\n      <td>-66116000000.0</td>\n    </tr>\n    <tr>\n      <th>Common Stock Payments</th>\n      <td>-89402000000.0</td>\n      <td>-85971000000.0</td>\n      <td>-72358000000.0</td>\n      <td>-66897000000.0</td>\n    </tr>\n    <tr>\n      <th>Common Stock Issuance</th>\n      <td>NaN</td>\n      <td>1105000000.0</td>\n      <td>880000000.0</td>\n      <td>781000000.0</td>\n    </tr>\n    <tr>\n      <th>Net Issuance Payments Of Debt</th>\n      <td>-123000000.0</td>\n      <td>12665000000.0</td>\n      <td>2499000000.0</td>\n      <td>-7819000000.0</td>\n    </tr>\n    <tr>\n      <th>Net Short Term Debt Issuance</th>\n      <td>3955000000.0</td>\n      <td>1022000000.0</td>\n      <td>-963000000.0</td>\n      <td>-5977000000.0</td>\n    </tr>\n    <tr>\n      <th>Short Term Debt Payments</th>\n      <td>NaN</td>\n      <td>NaN</td>\n      <td>-963000000.0</td>\n      <td>NaN</td>\n    </tr>\n    <tr>\n      <th>Short Term Debt Issuance</th>\n      <td>3955000000.0</td>\n      <td>NaN</td>\n      <td>NaN</td>\n      <td>NaN</td>\n    </tr>\n    <tr>\n      <th>Net Long Term Debt Issuance</th>\n      <td>-4078000000.0</td>\n      <td>11643000000.0</td>\n      <td>3462000000.0</td>\n      <td>-1842000000.0</td>\n    </tr>\n    <tr>\n      <th>Long Term Debt Payments</th>\n      <td>-9543000000.0</td>\n      <td>-8750000000.0</td>\n      <td>-12629000000.0</td>\n      <td>-8805000000.0</td>\n    </tr>\n    <tr>\n      <th>Long Term Debt Issuance</th>\n      <td>5465000000.0</td>\n      <td>20393000000.0</td>\n      <td>16091000000.0</td>\n      <td>6963000000.0</td>\n    </tr>\n    <tr>\n      <th>Investing Cash Flow</th>\n      <td>-22354000000.0</td>\n      <td>-14545000000.0</td>\n      <td>-4289000000.0</td>\n      <td>45896000000.0</td>\n    </tr>\n    <tr>\n      <th>Cash Flow From Continuing Investing Activities</th>\n      <td>-22354000000.0</td>\n      <td>-14545000000.0</td>\n      <td>-4289000000.0</td>\n      <td>45896000000.0</td>\n    </tr>\n    <tr>\n      <th>Net Other Investing Changes</th>\n      <td>-1780000000.0</td>\n      <td>-352000000.0</td>\n      <td>-791000000.0</td>\n      <td>-1078000000.0</td>\n    </tr>\n    <tr>\n      <th>Net Investment Purchase And Sale</th>\n      <td>-9560000000.0</td>\n      <td>-3075000000.0</td>\n      <td>5335000000.0</td>\n      <td>58093000000.0</td>\n    </tr>\n    <tr>\n      <th>Sale Of Investment</th>\n      <td>67363000000.0</td>\n      <td>106483000000.0</td>\n      <td>120483000000.0</td>\n      <td>98724000000.0</td>\n    </tr>\n    <tr>\n      <th>Purchase Of Investment</th>\n      <td>-76923000000.0</td>\n      <td>-109558000000.0</td>\n      <td>-115148000000.0</td>\n      <td>-40631000000.0</td>\n    </tr>\n    <tr>\n      <th>Net Business Purchase And Sale</th>\n      <td>-306000000.0</td>\n      <td>-33000000.0</td>\n      <td>-1524000000.0</td>\n      <td>-624000000.0</td>\n    </tr>\n    <tr>\n      <th>Purchase Of Business</th>\n      <td>-306000000.0</td>\n      <td>-33000000.0</td>\n      <td>-1524000000.0</td>\n      <td>-624000000.0</td>\n    </tr>\n    <tr>\n      <th>Net PPE Purchase And Sale</th>\n      <td>-10708000000.0</td>\n      <td>-11085000000.0</td>\n      <td>-7309000000.0</td>\n      <td>-10495000000.0</td>\n    </tr>\n    <tr>\n      <th>Purchase Of PPE</th>\n      <td>-10708000000.0</td>\n      <td>-11085000000.0</td>\n      <td>-7309000000.0</td>\n      <td>-10495000000.0</td>\n    </tr>\n    <tr>\n      <th>Operating Cash Flow</th>\n      <td>122151000000.0</td>\n      <td>104038000000.0</td>\n      <td>80674000000.0</td>\n      <td>69391000000.0</td>\n    </tr>\n    <tr>\n      <th>Cash Flow From Continuing Operating Activities</th>\n      <td>122151000000.0</td>\n      <td>104038000000.0</td>\n      <td>80674000000.0</td>\n      <td>69391000000.0</td>\n    </tr>\n    <tr>\n      <th>Change In Working Capital</th>\n      <td>1200000000.0</td>\n      <td>-4911000000.0</td>\n      <td>5690000000.0</td>\n      <td>-3488000000.0</td>\n    </tr>\n    <tr>\n      <th>Change In Other Working Capital</th>\n      <td>478000000.0</td>\n      <td>1676000000.0</td>\n      <td>2081000000.0</td>\n      <td>-625000000.0</td>\n    </tr>\n    <tr>\n      <th>Change In Other Current Liabilities</th>\n      <td>5632000000.0</td>\n      <td>5799000000.0</td>\n      <td>8916000000.0</td>\n      <td>-4700000000.0</td>\n    </tr>\n    <tr>\n      <th>Change In Other Current Assets</th>\n      <td>-6499000000.0</td>\n      <td>-8042000000.0</td>\n      <td>-9588000000.0</td>\n      <td>873000000.0</td>\n    </tr>\n    <tr>\n      <th>Change In Payables And Accrued Expense</th>\n      <td>9448000000.0</td>\n      <td>12326000000.0</td>\n      <td>-4062000000.0</td>\n      <td>-1923000000.0</td>\n    </tr>\n    <tr>\n      <th>Change In Payable</th>\n      <td>9448000000.0</td>\n      <td>12326000000.0</td>\n      <td>-4062000000.0</td>\n      <td>-1923000000.0</td>\n    </tr>\n    <tr>\n      <th>Change In Account Payable</th>\n      <td>9448000000.0</td>\n      <td>12326000000.0</td>\n      <td>-4062000000.0</td>\n      <td>-1923000000.0</td>\n    </tr>\n    <tr>\n      <th>Change In Inventory</th>\n      <td>1484000000.0</td>\n      <td>-2642000000.0</td>\n      <td>-127000000.0</td>\n      <td>-289000000.0</td>\n    </tr>\n    <tr>\n      <th>Change In Receivables</th>\n      <td>-9343000000.0</td>\n      <td>-14028000000.0</td>\n      <td>8470000000.0</td>\n      <td>3176000000.0</td>\n    </tr>\n    <tr>\n      <th>Changes In Account Receivables</th>\n      <td>-1823000000.0</td>\n      <td>-10125000000.0</td>\n      <td>6917000000.0</td>\n      <td>245000000.0</td>\n    </tr>\n    <tr>\n      <th>Other Non Cash Items</th>\n      <td>111000000.0</td>\n      <td>-147000000.0</td>\n      <td>-97000000.0</td>\n      <td>-652000000.0</td>\n    </tr>\n    <tr>\n      <th>Stock Based Compensation</th>\n      <td>9038000000.0</td>\n      <td>7906000000.0</td>\n      <td>6829000000.0</td>\n      <td>6068000000.0</td>\n    </tr>\n    <tr>\n      <th>Deferred Tax</th>\n      <td>895000000.0</td>\n      <td>-4774000000.0</td>\n      <td>-215000000.0</td>\n      <td>-340000000.0</td>\n    </tr>\n    <tr>\n      <th>Deferred Income Tax</th>\n      <td>895000000.0</td>\n      <td>-4774000000.0</td>\n      <td>-215000000.0</td>\n      <td>-340000000.0</td>\n    </tr>\n    <tr>\n      <th>Depreciation Amortization Depletion</th>\n      <td>11104000000.0</td>\n      <td>11284000000.0</td>\n      <td>11056000000.0</td>\n      <td>12547000000.0</td>\n    </tr>\n    <tr>\n      <th>Depreciation And Amortization</th>\n      <td>11104000000.0</td>\n      <td>11284000000.0</td>\n      <td>11056000000.0</td>\n      <td>12547000000.0</td>\n    </tr>\n    <tr>\n      <th>Net Income From Continuing Operations</th>\n      <td>99803000000.0</td>\n      <td>94680000000.0</td>\n      <td>57411000000.0</td>\n      <td>55256000000.0</td>\n    </tr>\n  </tbody>\n</table>\n</div>"
     },
     "execution_count": 17,
     "metadata": {},
     "output_type": "execute_result"
    }
   ],
   "source": [
    "ticker.cashflow"
   ]
  },
  {
   "cell_type": "code",
   "execution_count": 18,
   "metadata": {
    "ExecuteTime": {
     "end_time": "2023-08-07T05:19:06.032683Z",
     "start_time": "2023-08-07T05:19:05.389688300Z"
    }
   },
   "outputs": [
    {
     "data": {
      "text/plain": "                                                   2023-06-30     2023-03-31  \\\nFree Cash Flow                                  24287000000.0  25644000000.0   \nRepurchase Of Capital Stock                    -17478000000.0 -19594000000.0   \nRepayment Of Debt                               -7500000000.0   5964000000.0   \nIssuance Of Debt                                          NaN            NaN   \nCapital Expenditure                             -2093000000.0  -2916000000.0   \nInterest Paid Supplemental Data                   717000000.0   1170000000.0   \nIncome Tax Paid Supplemental Data                2126000000.0   4066000000.0   \nEnd Cash Position                               29898000000.0  27129000000.0   \nBeginning Cash Position                         27129000000.0  21974000000.0   \nChanges In Cash                                  2769000000.0   5155000000.0   \nFinancing Cash Flow                            -24048000000.0 -25724000000.0   \nCash Flow From Continuing Financing Activities -24048000000.0 -25724000000.0   \nNet Other Financing Charges                     -2438000000.0   -484000000.0   \nCash Dividends Paid                             -3849000000.0  -3650000000.0   \nCommon Stock Dividend Paid                      -3849000000.0  -3650000000.0   \nNet Common Stock Issuance                      -17478000000.0 -19594000000.0   \nCommon Stock Payments                          -17478000000.0 -19594000000.0   \nNet Issuance Payments Of Debt                    -283000000.0  -1996000000.0   \nNet Short Term Debt Issuance                     1989000000.0    254000000.0   \nShort Term Debt Payments                                  NaN            NaN   \nShort Term Debt Issuance                                  NaN            NaN   \nNet Long Term Debt Issuance                     -2272000000.0  -2250000000.0   \nLong Term Debt Payments                         -7500000000.0  -2250000000.0   \nLong Term Debt Issuance                                   NaN            NaN   \nInvesting Cash Flow                               437000000.0   2319000000.0   \nCash Flow From Continuing Investing Activities    437000000.0   2319000000.0   \nNet Other Investing Changes                      -506000000.0   -106000000.0   \nNet Investment Purchase And Sale                 3036000000.0   5341000000.0   \nSale Of Investment                              12795000000.0  11385000000.0   \nPurchase Of Investment                          -9759000000.0  -6044000000.0   \nNet Business Purchase And Sale                            NaN            NaN   \nPurchase Of Business                                      NaN            NaN   \nNet PPE Purchase And Sale                       -2093000000.0  -2916000000.0   \nPurchase Of PPE                                 -2093000000.0  -2916000000.0   \nOperating Cash Flow                             26380000000.0  28560000000.0   \nCash Flow From Continuing Operating Activities  26380000000.0  28560000000.0   \nChange In Working Capital                         749000000.0    231000000.0   \nChange In Other Working Capital                           NaN            NaN   \nChange In Other Current Liabilities              1229000000.0  -2001000000.0   \nChange In Other Current Assets                   -771000000.0      7000000.0   \nChange In Payables And Accrued Expense           3974000000.0 -14689000000.0   \nChange In Payable                                3974000000.0 -14689000000.0   \nChange In Account Payable                        3974000000.0 -14689000000.0   \nChange In Inventory                               -22000000.0   -741000000.0   \nChange In Receivables                           -3661000000.0  17786000000.0   \nChanges In Account Receivables                  -1987000000.0   5321000000.0   \nOther Non Cash Items                               81000000.0  -1415000000.0   \nStock Based Compensation                         2617000000.0   2686000000.0   \nDeferred Tax                                              NaN            NaN   \nDeferred Income Tax                                       NaN            NaN   \nDepreciation Amortization Depletion              3052000000.0   2898000000.0   \nDepreciation And Amortization                    3052000000.0   2898000000.0   \nNet Income From Continuing Operations           19881000000.0  24160000000.0   \n\n                                                   2022-12-31     2022-09-30  \\\nFree Cash Flow                                  30218000000.0  20838000000.0   \nRepurchase Of Capital Stock                    -19475000000.0 -24428000000.0   \nRepayment Of Debt                               -9615000000.0  -2793000000.0   \nIssuance Of Debt                                          NaN   4450000000.0   \nCapital Expenditure                             -3787000000.0  -3289000000.0   \nInterest Paid Supplemental Data                   703000000.0    955000000.0   \nIncome Tax Paid Supplemental Data                 828000000.0   7322000000.0   \nEnd Cash Position                               21974000000.0  24977000000.0   \nBeginning Cash Position                         24977000000.0  28861000000.0   \nChanges In Cash                                 -3003000000.0  -3884000000.0   \nFinancing Cash Flow                            -35563000000.0 -26794000000.0   \nCash Flow From Continuing Financing Activities -35563000000.0 -26794000000.0   \nNet Other Financing Charges                     -2705000000.0   -320000000.0   \nCash Dividends Paid                             -3768000000.0  -3703000000.0   \nCommon Stock Dividend Paid                      -3768000000.0  -3703000000.0   \nNet Common Stock Issuance                      -19475000000.0 -24428000000.0   \nCommon Stock Payments                          -19475000000.0 -24428000000.0   \nNet Issuance Payments Of Debt                   -9615000000.0   1657000000.0   \nNet Short Term Debt Issuance                    -8214000000.0  -1015000000.0   \nShort Term Debt Payments                        -8214000000.0            NaN   \nShort Term Debt Issuance                                  NaN  -1015000000.0   \nNet Long Term Debt Issuance                     -1401000000.0   2672000000.0   \nLong Term Debt Payments                         -1401000000.0  -2793000000.0   \nLong Term Debt Issuance                                   NaN   5465000000.0   \nInvesting Cash Flow                             -1445000000.0  -1217000000.0   \nCash Flow From Continuing Investing Activities  -1445000000.0  -1217000000.0   \nNet Other Investing Changes                      -141000000.0   -597000000.0   \nNet Investment Purchase And Sale                 2483000000.0   2806000000.0   \nSale Of Investment                               7636000000.0   9551000000.0   \nPurchase Of Investment                          -5153000000.0  -6745000000.0   \nNet Business Purchase And Sale                            NaN   -137000000.0   \nPurchase Of Business                                      NaN   -137000000.0   \nNet PPE Purchase And Sale                       -3787000000.0  -3289000000.0   \nPurchase Of PPE                                 -3787000000.0  -3289000000.0   \nOperating Cash Flow                             34005000000.0  24127000000.0   \nCash Flow From Continuing Operating Activities  34005000000.0  24127000000.0   \nChange In Working Capital                       -1497000000.0    -48000000.0   \nChange In Other Working Capital                   131000000.0    218000000.0   \nChange In Other Current Liabilities              3758000000.0   5646000000.0   \nChange In Other Current Assets                  -4099000000.0  -3210000000.0   \nChange In Payables And Accrued Expense          -6075000000.0  15556000000.0   \nChange In Payable                               -6075000000.0  15556000000.0   \nChange In Account Payable                       -6075000000.0  15556000000.0   \nChange In Inventory                             -1807000000.0    435000000.0   \nChange In Receivables                            6595000000.0 -18693000000.0   \nChanges In Account Receivables                   4275000000.0  -6384000000.0   \nOther Non Cash Items                             -317000000.0    172000000.0   \nStock Based Compensation                         2905000000.0   2278000000.0   \nDeferred Tax                                              NaN  -1861000000.0   \nDeferred Income Tax                                       NaN  -1861000000.0   \nDepreciation Amortization Depletion              2916000000.0   2865000000.0   \nDepreciation And Amortization                    2916000000.0   2865000000.0   \nNet Income From Continuing Operations           29998000000.0  20721000000.0   \n\n                                                   2022-06-30  \nFree Cash Flow                                  20790000000.0  \nRepurchase Of Capital Stock                    -21865000000.0  \nRepayment Of Debt                               -3000000000.0  \nIssuance Of Debt                                 3971000000.0  \nCapital Expenditure                             -2102000000.0  \nInterest Paid Supplemental Data                   504000000.0  \nIncome Tax Paid Supplemental Data                2950000000.0  \nEnd Cash Position                               28861000000.0  \nBeginning Cash Position                         29180000000.0  \nChanges In Cash                                  -319000000.0  \nFinancing Cash Flow                            -27445000000.0  \nCash Flow From Continuing Financing Activities -27445000000.0  \nNet Other Financing Charges                     -2740000000.0  \nCash Dividends Paid                             -3811000000.0  \nCommon Stock Dividend Paid                      -3811000000.0  \nNet Common Stock Issuance                      -21865000000.0  \nCommon Stock Payments                          -21865000000.0  \nNet Issuance Payments Of Debt                     971000000.0  \nNet Short Term Debt Issuance                     3971000000.0  \nShort Term Debt Payments                                  NaN  \nShort Term Debt Issuance                         3971000000.0  \nNet Long Term Debt Issuance                     -3000000000.0  \nLong Term Debt Payments                         -3000000000.0  \nLong Term Debt Issuance                                   0.0  \nInvesting Cash Flow                              4234000000.0  \nCash Flow From Continuing Investing Activities   4234000000.0  \nNet Other Investing Changes                      -615000000.0  \nNet Investment Purchase And Sale                 6953000000.0  \nSale Of Investment                              15144000000.0  \nPurchase Of Investment                          -8191000000.0  \nNet Business Purchase And Sale                     -2000000.0  \nPurchase Of Business                               -2000000.0  \nNet PPE Purchase And Sale                       -2102000000.0  \nPurchase Of PPE                                 -2102000000.0  \nOperating Cash Flow                             22892000000.0  \nCash Flow From Continuing Operating Activities  22892000000.0  \nChange In Working Capital                       -3225000000.0  \nChange In Other Working Capital                  -367000000.0  \nChange In Other Current Liabilities             -1902000000.0  \nChange In Other Current Assets                    253000000.0  \nChange In Payables And Accrued Expense          -4358000000.0  \nChange In Payable                               -4358000000.0  \nChange In Account Payable                       -4358000000.0  \nChange In Inventory                               -16000000.0  \nChange In Receivables                            3165000000.0  \nChanges In Account Receivables                   -981000000.0  \nOther Non Cash Items                              -41000000.0  \nStock Based Compensation                         2243000000.0  \nDeferred Tax                                     1668000000.0  \nDeferred Income Tax                              1668000000.0  \nDepreciation Amortization Depletion              2805000000.0  \nDepreciation And Amortization                    2805000000.0  \nNet Income From Continuing Operations           19442000000.0  ",
      "text/html": "<div>\n<style scoped>\n    .dataframe tbody tr th:only-of-type {\n        vertical-align: middle;\n    }\n\n    .dataframe tbody tr th {\n        vertical-align: top;\n    }\n\n    .dataframe thead th {\n        text-align: right;\n    }\n</style>\n<table border=\"1\" class=\"dataframe\">\n  <thead>\n    <tr style=\"text-align: right;\">\n      <th></th>\n      <th>2023-06-30</th>\n      <th>2023-03-31</th>\n      <th>2022-12-31</th>\n      <th>2022-09-30</th>\n      <th>2022-06-30</th>\n    </tr>\n  </thead>\n  <tbody>\n    <tr>\n      <th>Free Cash Flow</th>\n      <td>24287000000.0</td>\n      <td>25644000000.0</td>\n      <td>30218000000.0</td>\n      <td>20838000000.0</td>\n      <td>20790000000.0</td>\n    </tr>\n    <tr>\n      <th>Repurchase Of Capital Stock</th>\n      <td>-17478000000.0</td>\n      <td>-19594000000.0</td>\n      <td>-19475000000.0</td>\n      <td>-24428000000.0</td>\n      <td>-21865000000.0</td>\n    </tr>\n    <tr>\n      <th>Repayment Of Debt</th>\n      <td>-7500000000.0</td>\n      <td>5964000000.0</td>\n      <td>-9615000000.0</td>\n      <td>-2793000000.0</td>\n      <td>-3000000000.0</td>\n    </tr>\n    <tr>\n      <th>Issuance Of Debt</th>\n      <td>NaN</td>\n      <td>NaN</td>\n      <td>NaN</td>\n      <td>4450000000.0</td>\n      <td>3971000000.0</td>\n    </tr>\n    <tr>\n      <th>Capital Expenditure</th>\n      <td>-2093000000.0</td>\n      <td>-2916000000.0</td>\n      <td>-3787000000.0</td>\n      <td>-3289000000.0</td>\n      <td>-2102000000.0</td>\n    </tr>\n    <tr>\n      <th>Interest Paid Supplemental Data</th>\n      <td>717000000.0</td>\n      <td>1170000000.0</td>\n      <td>703000000.0</td>\n      <td>955000000.0</td>\n      <td>504000000.0</td>\n    </tr>\n    <tr>\n      <th>Income Tax Paid Supplemental Data</th>\n      <td>2126000000.0</td>\n      <td>4066000000.0</td>\n      <td>828000000.0</td>\n      <td>7322000000.0</td>\n      <td>2950000000.0</td>\n    </tr>\n    <tr>\n      <th>End Cash Position</th>\n      <td>29898000000.0</td>\n      <td>27129000000.0</td>\n      <td>21974000000.0</td>\n      <td>24977000000.0</td>\n      <td>28861000000.0</td>\n    </tr>\n    <tr>\n      <th>Beginning Cash Position</th>\n      <td>27129000000.0</td>\n      <td>21974000000.0</td>\n      <td>24977000000.0</td>\n      <td>28861000000.0</td>\n      <td>29180000000.0</td>\n    </tr>\n    <tr>\n      <th>Changes In Cash</th>\n      <td>2769000000.0</td>\n      <td>5155000000.0</td>\n      <td>-3003000000.0</td>\n      <td>-3884000000.0</td>\n      <td>-319000000.0</td>\n    </tr>\n    <tr>\n      <th>Financing Cash Flow</th>\n      <td>-24048000000.0</td>\n      <td>-25724000000.0</td>\n      <td>-35563000000.0</td>\n      <td>-26794000000.0</td>\n      <td>-27445000000.0</td>\n    </tr>\n    <tr>\n      <th>Cash Flow From Continuing Financing Activities</th>\n      <td>-24048000000.0</td>\n      <td>-25724000000.0</td>\n      <td>-35563000000.0</td>\n      <td>-26794000000.0</td>\n      <td>-27445000000.0</td>\n    </tr>\n    <tr>\n      <th>Net Other Financing Charges</th>\n      <td>-2438000000.0</td>\n      <td>-484000000.0</td>\n      <td>-2705000000.0</td>\n      <td>-320000000.0</td>\n      <td>-2740000000.0</td>\n    </tr>\n    <tr>\n      <th>Cash Dividends Paid</th>\n      <td>-3849000000.0</td>\n      <td>-3650000000.0</td>\n      <td>-3768000000.0</td>\n      <td>-3703000000.0</td>\n      <td>-3811000000.0</td>\n    </tr>\n    <tr>\n      <th>Common Stock Dividend Paid</th>\n      <td>-3849000000.0</td>\n      <td>-3650000000.0</td>\n      <td>-3768000000.0</td>\n      <td>-3703000000.0</td>\n      <td>-3811000000.0</td>\n    </tr>\n    <tr>\n      <th>Net Common Stock Issuance</th>\n      <td>-17478000000.0</td>\n      <td>-19594000000.0</td>\n      <td>-19475000000.0</td>\n      <td>-24428000000.0</td>\n      <td>-21865000000.0</td>\n    </tr>\n    <tr>\n      <th>Common Stock Payments</th>\n      <td>-17478000000.0</td>\n      <td>-19594000000.0</td>\n      <td>-19475000000.0</td>\n      <td>-24428000000.0</td>\n      <td>-21865000000.0</td>\n    </tr>\n    <tr>\n      <th>Net Issuance Payments Of Debt</th>\n      <td>-283000000.0</td>\n      <td>-1996000000.0</td>\n      <td>-9615000000.0</td>\n      <td>1657000000.0</td>\n      <td>971000000.0</td>\n    </tr>\n    <tr>\n      <th>Net Short Term Debt Issuance</th>\n      <td>1989000000.0</td>\n      <td>254000000.0</td>\n      <td>-8214000000.0</td>\n      <td>-1015000000.0</td>\n      <td>3971000000.0</td>\n    </tr>\n    <tr>\n      <th>Short Term Debt Payments</th>\n      <td>NaN</td>\n      <td>NaN</td>\n      <td>-8214000000.0</td>\n      <td>NaN</td>\n      <td>NaN</td>\n    </tr>\n    <tr>\n      <th>Short Term Debt Issuance</th>\n      <td>NaN</td>\n      <td>NaN</td>\n      <td>NaN</td>\n      <td>-1015000000.0</td>\n      <td>3971000000.0</td>\n    </tr>\n    <tr>\n      <th>Net Long Term Debt Issuance</th>\n      <td>-2272000000.0</td>\n      <td>-2250000000.0</td>\n      <td>-1401000000.0</td>\n      <td>2672000000.0</td>\n      <td>-3000000000.0</td>\n    </tr>\n    <tr>\n      <th>Long Term Debt Payments</th>\n      <td>-7500000000.0</td>\n      <td>-2250000000.0</td>\n      <td>-1401000000.0</td>\n      <td>-2793000000.0</td>\n      <td>-3000000000.0</td>\n    </tr>\n    <tr>\n      <th>Long Term Debt Issuance</th>\n      <td>NaN</td>\n      <td>NaN</td>\n      <td>NaN</td>\n      <td>5465000000.0</td>\n      <td>0.0</td>\n    </tr>\n    <tr>\n      <th>Investing Cash Flow</th>\n      <td>437000000.0</td>\n      <td>2319000000.0</td>\n      <td>-1445000000.0</td>\n      <td>-1217000000.0</td>\n      <td>4234000000.0</td>\n    </tr>\n    <tr>\n      <th>Cash Flow From Continuing Investing Activities</th>\n      <td>437000000.0</td>\n      <td>2319000000.0</td>\n      <td>-1445000000.0</td>\n      <td>-1217000000.0</td>\n      <td>4234000000.0</td>\n    </tr>\n    <tr>\n      <th>Net Other Investing Changes</th>\n      <td>-506000000.0</td>\n      <td>-106000000.0</td>\n      <td>-141000000.0</td>\n      <td>-597000000.0</td>\n      <td>-615000000.0</td>\n    </tr>\n    <tr>\n      <th>Net Investment Purchase And Sale</th>\n      <td>3036000000.0</td>\n      <td>5341000000.0</td>\n      <td>2483000000.0</td>\n      <td>2806000000.0</td>\n      <td>6953000000.0</td>\n    </tr>\n    <tr>\n      <th>Sale Of Investment</th>\n      <td>12795000000.0</td>\n      <td>11385000000.0</td>\n      <td>7636000000.0</td>\n      <td>9551000000.0</td>\n      <td>15144000000.0</td>\n    </tr>\n    <tr>\n      <th>Purchase Of Investment</th>\n      <td>-9759000000.0</td>\n      <td>-6044000000.0</td>\n      <td>-5153000000.0</td>\n      <td>-6745000000.0</td>\n      <td>-8191000000.0</td>\n    </tr>\n    <tr>\n      <th>Net Business Purchase And Sale</th>\n      <td>NaN</td>\n      <td>NaN</td>\n      <td>NaN</td>\n      <td>-137000000.0</td>\n      <td>-2000000.0</td>\n    </tr>\n    <tr>\n      <th>Purchase Of Business</th>\n      <td>NaN</td>\n      <td>NaN</td>\n      <td>NaN</td>\n      <td>-137000000.0</td>\n      <td>-2000000.0</td>\n    </tr>\n    <tr>\n      <th>Net PPE Purchase And Sale</th>\n      <td>-2093000000.0</td>\n      <td>-2916000000.0</td>\n      <td>-3787000000.0</td>\n      <td>-3289000000.0</td>\n      <td>-2102000000.0</td>\n    </tr>\n    <tr>\n      <th>Purchase Of PPE</th>\n      <td>-2093000000.0</td>\n      <td>-2916000000.0</td>\n      <td>-3787000000.0</td>\n      <td>-3289000000.0</td>\n      <td>-2102000000.0</td>\n    </tr>\n    <tr>\n      <th>Operating Cash Flow</th>\n      <td>26380000000.0</td>\n      <td>28560000000.0</td>\n      <td>34005000000.0</td>\n      <td>24127000000.0</td>\n      <td>22892000000.0</td>\n    </tr>\n    <tr>\n      <th>Cash Flow From Continuing Operating Activities</th>\n      <td>26380000000.0</td>\n      <td>28560000000.0</td>\n      <td>34005000000.0</td>\n      <td>24127000000.0</td>\n      <td>22892000000.0</td>\n    </tr>\n    <tr>\n      <th>Change In Working Capital</th>\n      <td>749000000.0</td>\n      <td>231000000.0</td>\n      <td>-1497000000.0</td>\n      <td>-48000000.0</td>\n      <td>-3225000000.0</td>\n    </tr>\n    <tr>\n      <th>Change In Other Working Capital</th>\n      <td>NaN</td>\n      <td>NaN</td>\n      <td>131000000.0</td>\n      <td>218000000.0</td>\n      <td>-367000000.0</td>\n    </tr>\n    <tr>\n      <th>Change In Other Current Liabilities</th>\n      <td>1229000000.0</td>\n      <td>-2001000000.0</td>\n      <td>3758000000.0</td>\n      <td>5646000000.0</td>\n      <td>-1902000000.0</td>\n    </tr>\n    <tr>\n      <th>Change In Other Current Assets</th>\n      <td>-771000000.0</td>\n      <td>7000000.0</td>\n      <td>-4099000000.0</td>\n      <td>-3210000000.0</td>\n      <td>253000000.0</td>\n    </tr>\n    <tr>\n      <th>Change In Payables And Accrued Expense</th>\n      <td>3974000000.0</td>\n      <td>-14689000000.0</td>\n      <td>-6075000000.0</td>\n      <td>15556000000.0</td>\n      <td>-4358000000.0</td>\n    </tr>\n    <tr>\n      <th>Change In Payable</th>\n      <td>3974000000.0</td>\n      <td>-14689000000.0</td>\n      <td>-6075000000.0</td>\n      <td>15556000000.0</td>\n      <td>-4358000000.0</td>\n    </tr>\n    <tr>\n      <th>Change In Account Payable</th>\n      <td>3974000000.0</td>\n      <td>-14689000000.0</td>\n      <td>-6075000000.0</td>\n      <td>15556000000.0</td>\n      <td>-4358000000.0</td>\n    </tr>\n    <tr>\n      <th>Change In Inventory</th>\n      <td>-22000000.0</td>\n      <td>-741000000.0</td>\n      <td>-1807000000.0</td>\n      <td>435000000.0</td>\n      <td>-16000000.0</td>\n    </tr>\n    <tr>\n      <th>Change In Receivables</th>\n      <td>-3661000000.0</td>\n      <td>17786000000.0</td>\n      <td>6595000000.0</td>\n      <td>-18693000000.0</td>\n      <td>3165000000.0</td>\n    </tr>\n    <tr>\n      <th>Changes In Account Receivables</th>\n      <td>-1987000000.0</td>\n      <td>5321000000.0</td>\n      <td>4275000000.0</td>\n      <td>-6384000000.0</td>\n      <td>-981000000.0</td>\n    </tr>\n    <tr>\n      <th>Other Non Cash Items</th>\n      <td>81000000.0</td>\n      <td>-1415000000.0</td>\n      <td>-317000000.0</td>\n      <td>172000000.0</td>\n      <td>-41000000.0</td>\n    </tr>\n    <tr>\n      <th>Stock Based Compensation</th>\n      <td>2617000000.0</td>\n      <td>2686000000.0</td>\n      <td>2905000000.0</td>\n      <td>2278000000.0</td>\n      <td>2243000000.0</td>\n    </tr>\n    <tr>\n      <th>Deferred Tax</th>\n      <td>NaN</td>\n      <td>NaN</td>\n      <td>NaN</td>\n      <td>-1861000000.0</td>\n      <td>1668000000.0</td>\n    </tr>\n    <tr>\n      <th>Deferred Income Tax</th>\n      <td>NaN</td>\n      <td>NaN</td>\n      <td>NaN</td>\n      <td>-1861000000.0</td>\n      <td>1668000000.0</td>\n    </tr>\n    <tr>\n      <th>Depreciation Amortization Depletion</th>\n      <td>3052000000.0</td>\n      <td>2898000000.0</td>\n      <td>2916000000.0</td>\n      <td>2865000000.0</td>\n      <td>2805000000.0</td>\n    </tr>\n    <tr>\n      <th>Depreciation And Amortization</th>\n      <td>3052000000.0</td>\n      <td>2898000000.0</td>\n      <td>2916000000.0</td>\n      <td>2865000000.0</td>\n      <td>2805000000.0</td>\n    </tr>\n    <tr>\n      <th>Net Income From Continuing Operations</th>\n      <td>19881000000.0</td>\n      <td>24160000000.0</td>\n      <td>29998000000.0</td>\n      <td>20721000000.0</td>\n      <td>19442000000.0</td>\n    </tr>\n  </tbody>\n</table>\n</div>"
     },
     "execution_count": 18,
     "metadata": {},
     "output_type": "execute_result"
    }
   ],
   "source": [
    "ticker.quarterly_cashflow"
   ]
  },
  {
   "cell_type": "code",
   "execution_count": 19,
   "metadata": {
    "ExecuteTime": {
     "end_time": "2023-08-07T05:19:06.149162700Z",
     "start_time": "2023-08-07T05:19:06.031686500Z"
    }
   },
   "outputs": [
    {
     "ename": "YFNotImplementedError",
     "evalue": "Have not implemented fetching 'earnings' from Yahoo API",
     "output_type": "error",
     "traceback": [
      "\u001B[1;31m---------------------------------------------------------------------------\u001B[0m",
      "\u001B[1;31mYFNotImplementedError\u001B[0m                     Traceback (most recent call last)",
      "Cell \u001B[1;32mIn[19], line 1\u001B[0m\n\u001B[1;32m----> 1\u001B[0m \u001B[43mticker\u001B[49m\u001B[38;5;241;43m.\u001B[39;49m\u001B[43mearnings\u001B[49m\n",
      "File \u001B[1;32m~\\miniconda3\\envs\\machine-learning-for-trading\\Lib\\site-packages\\yfinance\\ticker.py:154\u001B[0m, in \u001B[0;36mTicker.earnings\u001B[1;34m(self)\u001B[0m\n\u001B[0;32m    152\u001B[0m \u001B[38;5;129m@property\u001B[39m\n\u001B[0;32m    153\u001B[0m \u001B[38;5;28;01mdef\u001B[39;00m \u001B[38;5;21mearnings\u001B[39m(\u001B[38;5;28mself\u001B[39m) \u001B[38;5;241m-\u001B[39m\u001B[38;5;241m>\u001B[39m _pd\u001B[38;5;241m.\u001B[39mDataFrame:\n\u001B[1;32m--> 154\u001B[0m     \u001B[38;5;28;01mreturn\u001B[39;00m \u001B[38;5;28;43mself\u001B[39;49m\u001B[38;5;241;43m.\u001B[39;49m\u001B[43mget_earnings\u001B[49m\u001B[43m(\u001B[49m\u001B[43m)\u001B[49m\n",
      "File \u001B[1;32m~\\miniconda3\\envs\\machine-learning-for-trading\\Lib\\site-packages\\yfinance\\base.py:1573\u001B[0m, in \u001B[0;36mTickerBase.get_earnings\u001B[1;34m(self, proxy, as_dict, freq)\u001B[0m\n\u001B[0;32m   1560\u001B[0m \u001B[38;5;250m\u001B[39m\u001B[38;5;124;03m\"\"\"\u001B[39;00m\n\u001B[0;32m   1561\u001B[0m \u001B[38;5;124;03m:Parameters:\u001B[39;00m\n\u001B[0;32m   1562\u001B[0m \u001B[38;5;124;03m    as_dict: bool\u001B[39;00m\n\u001B[1;32m   (...)\u001B[0m\n\u001B[0;32m   1570\u001B[0m \u001B[38;5;124;03m        Default is None\u001B[39;00m\n\u001B[0;32m   1571\u001B[0m \u001B[38;5;124;03m\"\"\"\u001B[39;00m\n\u001B[0;32m   1572\u001B[0m \u001B[38;5;28mself\u001B[39m\u001B[38;5;241m.\u001B[39m_fundamentals\u001B[38;5;241m.\u001B[39mproxy \u001B[38;5;241m=\u001B[39m proxy\n\u001B[1;32m-> 1573\u001B[0m data \u001B[38;5;241m=\u001B[39m \u001B[38;5;28;43mself\u001B[39;49m\u001B[38;5;241;43m.\u001B[39;49m\u001B[43m_fundamentals\u001B[49m\u001B[38;5;241;43m.\u001B[39;49m\u001B[43mearnings\u001B[49m[freq]\n\u001B[0;32m   1574\u001B[0m \u001B[38;5;28;01mif\u001B[39;00m as_dict:\n\u001B[0;32m   1575\u001B[0m     dict_data \u001B[38;5;241m=\u001B[39m data\u001B[38;5;241m.\u001B[39mto_dict()\n",
      "File \u001B[1;32m~\\miniconda3\\envs\\machine-learning-for-trading\\Lib\\site-packages\\yfinance\\scrapers\\fundamentals.py:34\u001B[0m, in \u001B[0;36mFundamentals.earnings\u001B[1;34m(self)\u001B[0m\n\u001B[0;32m     31\u001B[0m \u001B[38;5;129m@property\u001B[39m\n\u001B[0;32m     32\u001B[0m \u001B[38;5;28;01mdef\u001B[39;00m \u001B[38;5;21mearnings\u001B[39m(\u001B[38;5;28mself\u001B[39m) \u001B[38;5;241m-\u001B[39m\u001B[38;5;241m>\u001B[39m \u001B[38;5;28mdict\u001B[39m:\n\u001B[0;32m     33\u001B[0m     \u001B[38;5;28;01mif\u001B[39;00m \u001B[38;5;28mself\u001B[39m\u001B[38;5;241m.\u001B[39m_earnings \u001B[38;5;129;01mis\u001B[39;00m \u001B[38;5;28;01mNone\u001B[39;00m:\n\u001B[1;32m---> 34\u001B[0m         \u001B[38;5;28;01mraise\u001B[39;00m YFNotImplementedError(\u001B[38;5;124m'\u001B[39m\u001B[38;5;124mearnings\u001B[39m\u001B[38;5;124m'\u001B[39m)\n\u001B[0;32m     35\u001B[0m     \u001B[38;5;28;01mreturn\u001B[39;00m \u001B[38;5;28mself\u001B[39m\u001B[38;5;241m.\u001B[39m_earnings\n",
      "\u001B[1;31mYFNotImplementedError\u001B[0m: Have not implemented fetching 'earnings' from Yahoo API"
     ]
    }
   ],
   "source": [
    "ticker.earnings"
   ]
  },
  {
   "cell_type": "code",
   "execution_count": null,
   "metadata": {
    "ExecuteTime": {
     "start_time": "2023-08-07T05:19:06.091916900Z"
    }
   },
   "outputs": [],
   "source": [
    "ticker.quarterly_earnings"
   ]
  },
  {
   "cell_type": "markdown",
   "metadata": {},
   "source": [
    "### Sustainability: Environmental, Social and Governance (ESG)"
   ]
  },
  {
   "cell_type": "code",
   "execution_count": null,
   "metadata": {
    "ExecuteTime": {
     "start_time": "2023-08-07T05:19:06.093915200Z"
    }
   },
   "outputs": [],
   "source": [
    "ticker.sustainability"
   ]
  },
  {
   "cell_type": "markdown",
   "metadata": {},
   "source": [
    "### Analyst Recommendations"
   ]
  },
  {
   "cell_type": "code",
   "execution_count": null,
   "metadata": {
    "ExecuteTime": {
     "start_time": "2023-08-07T05:19:06.096917800Z"
    }
   },
   "outputs": [],
   "source": [
    "ticker.recommendations.info()"
   ]
  },
  {
   "cell_type": "code",
   "execution_count": null,
   "metadata": {
    "ExecuteTime": {
     "start_time": "2023-08-07T05:19:06.099973900Z"
    }
   },
   "outputs": [],
   "source": [
    "ticker.recommendations.tail(10)"
   ]
  },
  {
   "cell_type": "markdown",
   "metadata": {},
   "source": [
    "### Upcoming Events"
   ]
  },
  {
   "cell_type": "code",
   "execution_count": null,
   "metadata": {
    "ExecuteTime": {
     "start_time": "2023-08-07T05:19:06.102975800Z"
    }
   },
   "outputs": [],
   "source": [
    "ticker.calendar"
   ]
  },
  {
   "cell_type": "markdown",
   "metadata": {},
   "source": [
    "### Option Expiration Dates"
   ]
  },
  {
   "cell_type": "code",
   "execution_count": null,
   "metadata": {
    "ExecuteTime": {
     "start_time": "2023-08-07T05:19:06.105050900Z"
    }
   },
   "outputs": [],
   "source": [
    "ticker.options"
   ]
  },
  {
   "cell_type": "code",
   "execution_count": null,
   "metadata": {
    "ExecuteTime": {
     "start_time": "2023-08-07T05:19:06.107055100Z"
    }
   },
   "outputs": [],
   "source": [
    "expiration = ticker.options[0]"
   ]
  },
  {
   "cell_type": "code",
   "execution_count": null,
   "metadata": {
    "ExecuteTime": {
     "start_time": "2023-08-07T05:19:06.110380Z"
    }
   },
   "outputs": [],
   "source": [
    "options = ticker.option_chain(expiration)"
   ]
  },
  {
   "cell_type": "code",
   "execution_count": null,
   "metadata": {
    "ExecuteTime": {
     "start_time": "2023-08-07T05:19:06.112413100Z"
    }
   },
   "outputs": [],
   "source": [
    "options.calls.info()"
   ]
  },
  {
   "cell_type": "code",
   "execution_count": null,
   "metadata": {
    "ExecuteTime": {
     "start_time": "2023-08-07T05:19:06.115412800Z"
    }
   },
   "outputs": [],
   "source": [
    "options.calls.head()"
   ]
  },
  {
   "cell_type": "code",
   "execution_count": null,
   "metadata": {
    "ExecuteTime": {
     "start_time": "2023-08-07T05:19:06.117487400Z"
    }
   },
   "outputs": [],
   "source": [
    "options.puts.info()"
   ]
  },
  {
   "cell_type": "markdown",
   "metadata": {},
   "source": [
    "## Data Download with proxy server"
   ]
  },
  {
   "cell_type": "markdown",
   "metadata": {},
   "source": [
    "You can use a proxy server to avoid having your IP blacklisted as illustrated below (but need an actual PROXY_SERVER)."
   ]
  },
  {
   "cell_type": "code",
   "execution_count": null,
   "metadata": {
    "ExecuteTime": {
     "start_time": "2023-08-07T05:19:06.120547300Z"
    }
   },
   "outputs": [],
   "source": [
    "PROXY_SERVER = 'PROXY_SERVER'"
   ]
  },
  {
   "cell_type": "markdown",
   "metadata": {},
   "source": [
    "The following will only work with proper PROXY_SERVER..."
   ]
  },
  {
   "cell_type": "code",
   "execution_count": null,
   "metadata": {
    "ExecuteTime": {
     "start_time": "2023-08-07T05:19:06.123590800Z"
    }
   },
   "outputs": [],
   "source": [
    "# msft = yf.Ticker(\"MSFT\")\n",
    "\n",
    "# msft.history(proxy=PROXY_SERVER)\n",
    "# msft.get_actions(proxy=PROXY_SERVER)\n",
    "# msft.get_dividends(proxy=PROXY_SERVER)\n",
    "# msft.get_splits(proxy=PROXY_SERVER)\n",
    "# msft.get_balance_sheet(proxy=PROXY_SERVER)\n",
    "# msft.get_cashflow(proxy=PROXY_SERVER)\n",
    "# msft.option_chain(proxy=PROXY_SERVER)"
   ]
  },
  {
   "cell_type": "markdown",
   "metadata": {},
   "source": [
    "## Downloading multiple symbols"
   ]
  },
  {
   "cell_type": "code",
   "execution_count": null,
   "metadata": {
    "ExecuteTime": {
     "start_time": "2023-08-07T05:19:06.125677200Z"
    }
   },
   "outputs": [],
   "source": [
    "tickers = yf.Tickers('msft aapl goog')"
   ]
  },
  {
   "cell_type": "code",
   "execution_count": null,
   "metadata": {
    "ExecuteTime": {
     "start_time": "2023-08-07T05:19:06.127683600Z"
    }
   },
   "outputs": [],
   "source": [
    "tickers"
   ]
  },
  {
   "cell_type": "code",
   "execution_count": null,
   "metadata": {
    "ExecuteTime": {
     "start_time": "2023-08-07T05:19:06.129683700Z"
    }
   },
   "outputs": [],
   "source": [
    "pd.Series(tickers.tickers['MSFT'].info)"
   ]
  },
  {
   "cell_type": "code",
   "execution_count": null,
   "metadata": {
    "ExecuteTime": {
     "start_time": "2023-08-07T05:19:06.130739800Z"
    }
   },
   "outputs": [],
   "source": [
    "tickers.tickers['AAPL'].history(period=\"1mo\")"
   ]
  },
  {
   "cell_type": "code",
   "execution_count": null,
   "metadata": {
    "ExecuteTime": {
     "start_time": "2023-08-07T05:19:06.132770300Z"
    }
   },
   "outputs": [],
   "source": [
    "tickers.history(period='1mo').stack(-1)"
   ]
  },
  {
   "cell_type": "code",
   "execution_count": null,
   "metadata": {
    "ExecuteTime": {
     "start_time": "2023-08-07T05:19:06.134773200Z"
    }
   },
   "outputs": [],
   "source": [
    "data = yf.download(\"SPY AAPL\", start=\"2020-01-01\", end=\"2020-01-05\")"
   ]
  },
  {
   "cell_type": "code",
   "execution_count": null,
   "metadata": {
    "ExecuteTime": {
     "start_time": "2023-08-07T05:19:06.135946300Z"
    }
   },
   "outputs": [],
   "source": [
    "data.info()"
   ]
  },
  {
   "cell_type": "code",
   "execution_count": 24,
   "metadata": {
    "ExecuteTime": {
     "end_time": "2023-08-07T05:21:03.690367Z",
     "start_time": "2023-08-07T05:21:02.799378Z"
    }
   },
   "outputs": [
    {
     "name": "stdout",
     "output_type": "stream",
     "text": [
      "[*********************100%***********************]  3 of 3 completed\n"
     ]
    }
   ],
   "source": [
    "data = yf.download(\n",
    "        tickers = \"SPY AAPL MSFT\", # list or string\n",
    "\n",
    "        # use \"period\" instead of start/end\n",
    "        # valid periods: 1d,5d,1mo,3mo,6mo,1y,2y,5y,10y,ytd,max\n",
    "        # (optional, default is '1mo')\n",
    "        period = \"5d\",\n",
    "\n",
    "        # fetch data by interval (including intraday if period < 60 days)\n",
    "        # valid intervals: 1m,2m,5m,15m,30m,60m,90m,1h,1d,5d,1wk,1mo,3mo\n",
    "        # (optional, default is '1d')\n",
    "        interval = \"1m\",\n",
    "\n",
    "        # group by ticker (to access via data['SPY'])\n",
    "        # (optional, default is 'column')\n",
    "        group_by = 'ticker',\n",
    "\n",
    "        # adjust all OHLC automatically\n",
    "        # (optional, default is False)\n",
    "        auto_adjust = True,\n",
    "\n",
    "        # download pre/post regular market hours data\n",
    "        # (optional, default is False)\n",
    "        prepost = True,\n",
    "\n",
    "        # use threads for mass downloading? (True/False/Integer)\n",
    "        # (optional, default is True)\n",
    "        threads = True,\n",
    "\n",
    "        # proxy URL scheme use use when downloading?\n",
    "        # (optional, default is None)\n",
    "        proxy = None\n",
    "    )"
   ]
  },
  {
   "cell_type": "code",
   "execution_count": null,
   "metadata": {
    "ExecuteTime": {
     "start_time": "2023-08-07T05:19:06.139952Z"
    }
   },
   "outputs": [],
   "source": [
    "data.info()"
   ]
  },
  {
   "cell_type": "code",
   "execution_count": 23,
   "metadata": {
    "ExecuteTime": {
     "end_time": "2023-08-07T05:20:56.012745600Z",
     "start_time": "2023-08-07T05:20:55.295782300Z"
    }
   },
   "outputs": [
    {
     "name": "stdout",
     "output_type": "stream",
     "text": [
      "[*********************100%***********************]  1 of 1 completed\n"
     ]
    }
   ],
   "source": [
    "from pandas_datareader import data as pdr\n",
    "\n",
    "import yfinance as yf\n",
    "yf.pdr_override()\n",
    "\n",
    "# download dataframe\n",
    "data = pdr.get_data_yahoo('SPY',\n",
    "                          start='2017-01-01',\n",
    "                          end='2019-04-30',\n",
    "                          auto_adjust=False)"
   ]
  },
  {
   "cell_type": "code",
   "execution_count": 22,
   "metadata": {
    "ExecuteTime": {
     "end_time": "2023-08-07T05:20:36.017758Z",
     "start_time": "2023-08-07T05:20:36.003732900Z"
    }
   },
   "outputs": [
    {
     "data": {
      "text/plain": "                                 Open        High         Low       Close  \\\nDatetime                                                                    \n2023-08-04 15:55:00-04:00  182.250000  182.250000  182.169998  182.175003   \n2023-08-04 15:56:00-04:00  182.175003  182.210007  182.130005  182.154999   \n2023-08-04 15:57:00-04:00  182.150101  182.160004  182.115005  182.149994   \n2023-08-04 15:58:00-04:00  182.157700  182.375000  182.009995  182.025696   \n2023-08-04 15:59:00-04:00  182.020004  182.100006  181.919998  182.000000   \n\n                            Volume  Dividends  Stock Splits  \nDatetime                                                     \n2023-08-04 15:55:00-04:00   438387        0.0           0.0  \n2023-08-04 15:56:00-04:00   561140        0.0           0.0  \n2023-08-04 15:57:00-04:00   474353        0.0           0.0  \n2023-08-04 15:58:00-04:00  1192871        0.0           0.0  \n2023-08-04 15:59:00-04:00  2217417        0.0           0.0  ",
      "text/html": "<div>\n<style scoped>\n    .dataframe tbody tr th:only-of-type {\n        vertical-align: middle;\n    }\n\n    .dataframe tbody tr th {\n        vertical-align: top;\n    }\n\n    .dataframe thead th {\n        text-align: right;\n    }\n</style>\n<table border=\"1\" class=\"dataframe\">\n  <thead>\n    <tr style=\"text-align: right;\">\n      <th></th>\n      <th>Open</th>\n      <th>High</th>\n      <th>Low</th>\n      <th>Close</th>\n      <th>Volume</th>\n      <th>Dividends</th>\n      <th>Stock Splits</th>\n    </tr>\n    <tr>\n      <th>Datetime</th>\n      <th></th>\n      <th></th>\n      <th></th>\n      <th></th>\n      <th></th>\n      <th></th>\n      <th></th>\n    </tr>\n  </thead>\n  <tbody>\n    <tr>\n      <th>2023-08-04 15:55:00-04:00</th>\n      <td>182.250000</td>\n      <td>182.250000</td>\n      <td>182.169998</td>\n      <td>182.175003</td>\n      <td>438387</td>\n      <td>0.0</td>\n      <td>0.0</td>\n    </tr>\n    <tr>\n      <th>2023-08-04 15:56:00-04:00</th>\n      <td>182.175003</td>\n      <td>182.210007</td>\n      <td>182.130005</td>\n      <td>182.154999</td>\n      <td>561140</td>\n      <td>0.0</td>\n      <td>0.0</td>\n    </tr>\n    <tr>\n      <th>2023-08-04 15:57:00-04:00</th>\n      <td>182.150101</td>\n      <td>182.160004</td>\n      <td>182.115005</td>\n      <td>182.149994</td>\n      <td>474353</td>\n      <td>0.0</td>\n      <td>0.0</td>\n    </tr>\n    <tr>\n      <th>2023-08-04 15:58:00-04:00</th>\n      <td>182.157700</td>\n      <td>182.375000</td>\n      <td>182.009995</td>\n      <td>182.025696</td>\n      <td>1192871</td>\n      <td>0.0</td>\n      <td>0.0</td>\n    </tr>\n    <tr>\n      <th>2023-08-04 15:59:00-04:00</th>\n      <td>182.020004</td>\n      <td>182.100006</td>\n      <td>181.919998</td>\n      <td>182.000000</td>\n      <td>2217417</td>\n      <td>0.0</td>\n      <td>0.0</td>\n    </tr>\n  </tbody>\n</table>\n</div>"
     },
     "execution_count": 22,
     "metadata": {},
     "output_type": "execute_result"
    }
   ],
   "source": [
    "# auto_adjust = True\n",
    "data.tail()"
   ]
  },
  {
   "cell_type": "code",
   "execution_count": 21,
   "metadata": {
    "ExecuteTime": {
     "end_time": "2023-08-07T05:20:27.395858500Z",
     "start_time": "2023-08-07T05:20:27.386275200Z"
    }
   },
   "outputs": [
    {
     "data": {
      "text/plain": "                                 Open        High         Low       Close  \\\nDatetime                                                                    \n2023-08-04 15:55:00-04:00  182.250000  182.250000  182.169998  182.175003   \n2023-08-04 15:56:00-04:00  182.175003  182.210007  182.130005  182.154999   \n2023-08-04 15:57:00-04:00  182.150101  182.160004  182.115005  182.149994   \n2023-08-04 15:58:00-04:00  182.157700  182.375000  182.009995  182.025696   \n2023-08-04 15:59:00-04:00  182.020004  182.100006  181.919998  182.000000   \n\n                            Volume  Dividends  Stock Splits  \nDatetime                                                     \n2023-08-04 15:55:00-04:00   438387        0.0           0.0  \n2023-08-04 15:56:00-04:00   561140        0.0           0.0  \n2023-08-04 15:57:00-04:00   474353        0.0           0.0  \n2023-08-04 15:58:00-04:00  1192871        0.0           0.0  \n2023-08-04 15:59:00-04:00  2217417        0.0           0.0  ",
      "text/html": "<div>\n<style scoped>\n    .dataframe tbody tr th:only-of-type {\n        vertical-align: middle;\n    }\n\n    .dataframe tbody tr th {\n        vertical-align: top;\n    }\n\n    .dataframe thead th {\n        text-align: right;\n    }\n</style>\n<table border=\"1\" class=\"dataframe\">\n  <thead>\n    <tr style=\"text-align: right;\">\n      <th></th>\n      <th>Open</th>\n      <th>High</th>\n      <th>Low</th>\n      <th>Close</th>\n      <th>Volume</th>\n      <th>Dividends</th>\n      <th>Stock Splits</th>\n    </tr>\n    <tr>\n      <th>Datetime</th>\n      <th></th>\n      <th></th>\n      <th></th>\n      <th></th>\n      <th></th>\n      <th></th>\n      <th></th>\n    </tr>\n  </thead>\n  <tbody>\n    <tr>\n      <th>2023-08-04 15:55:00-04:00</th>\n      <td>182.250000</td>\n      <td>182.250000</td>\n      <td>182.169998</td>\n      <td>182.175003</td>\n      <td>438387</td>\n      <td>0.0</td>\n      <td>0.0</td>\n    </tr>\n    <tr>\n      <th>2023-08-04 15:56:00-04:00</th>\n      <td>182.175003</td>\n      <td>182.210007</td>\n      <td>182.130005</td>\n      <td>182.154999</td>\n      <td>561140</td>\n      <td>0.0</td>\n      <td>0.0</td>\n    </tr>\n    <tr>\n      <th>2023-08-04 15:57:00-04:00</th>\n      <td>182.150101</td>\n      <td>182.160004</td>\n      <td>182.115005</td>\n      <td>182.149994</td>\n      <td>474353</td>\n      <td>0.0</td>\n      <td>0.0</td>\n    </tr>\n    <tr>\n      <th>2023-08-04 15:58:00-04:00</th>\n      <td>182.157700</td>\n      <td>182.375000</td>\n      <td>182.009995</td>\n      <td>182.025696</td>\n      <td>1192871</td>\n      <td>0.0</td>\n      <td>0.0</td>\n    </tr>\n    <tr>\n      <th>2023-08-04 15:59:00-04:00</th>\n      <td>182.020004</td>\n      <td>182.100006</td>\n      <td>181.919998</td>\n      <td>182.000000</td>\n      <td>2217417</td>\n      <td>0.0</td>\n      <td>0.0</td>\n    </tr>\n  </tbody>\n</table>\n</div>"
     },
     "execution_count": 21,
     "metadata": {},
     "output_type": "execute_result"
    }
   ],
   "source": [
    "# auto_adjust = False\n",
    "data.tail()"
   ]
  },
  {
   "cell_type": "code",
   "execution_count": null,
   "metadata": {
    "ExecuteTime": {
     "start_time": "2023-08-07T05:19:06.147133800Z"
    }
   },
   "outputs": [],
   "source": []
  }
 ],
 "metadata": {
  "kernelspec": {
   "display_name": "Python 3",
   "language": "python",
   "name": "python3"
  },
  "language_info": {
   "codemirror_mode": {
    "name": "ipython",
    "version": 3
   },
   "file_extension": ".py",
   "mimetype": "text/x-python",
   "name": "python",
   "nbconvert_exporter": "python",
   "pygments_lexer": "ipython3",
   "version": "3.8.6"
  },
  "toc": {
   "base_numbering": 1,
   "nav_menu": {},
   "number_sections": true,
   "sideBar": true,
   "skip_h1_title": true,
   "title_cell": "Table of Contents",
   "title_sidebar": "Contents",
   "toc_cell": false,
   "toc_position": {},
   "toc_section_display": true,
   "toc_window_display": true
  }
 },
 "nbformat": 4,
 "nbformat_minor": 2
}
